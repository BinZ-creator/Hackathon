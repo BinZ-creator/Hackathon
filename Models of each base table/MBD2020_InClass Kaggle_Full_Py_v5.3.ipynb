{
 "cells": [
  {
   "cell_type": "markdown",
   "metadata": {},
   "source": [
    "---\n",
    "\n",
    "# InClass Kaggle Competition - Example - Python - v5.2\n",
    "\n",
    "This notebook gives an example on the implementation of machine learning pipeline for the InClass Kaggle Competition.\n",
    "\n",
    "Last update on: 05/04/2021\n",
    "\n",
    "---\n",
    "\n",
    "The machine learning pipeline includes:\n",
    "\n",
    "1. Data processing (Part 2)\n",
    "- [x] Error correction\n",
    "- [x] Feature engineering\n",
    "- [x] Value transformation\n",
    "- [x] Value representation\n",
    "- [x] Variable selection\n",
    "\n",
    "2. Modeling (Part 3)\n",
    "- [x] Logistic Regression, Random Forest, XGBoost\n",
    "- [x] Hyper parameter tuning\n",
    "\n",
    "3. Experimental setup (Part 3)\n",
    "- [x] k-fold CV\n",
    "- [x] Oversampling [DROPPED]\n",
    "\n",
    "4. Debuging (Part 3)\n",
    "- [x] Analyzing k-fold CV\n",
    "- [x] Learning curve"
   ]
  },
  {
   "cell_type": "code",
   "execution_count": 1,
   "metadata": {},
   "outputs": [
    {
     "name": "stdout",
     "output_type": "stream",
     "text": [
      "_std_all_v5.3\n",
      "Wall time: 1.03 ms\n"
     ]
    }
   ],
   "source": [
    "%%time\n",
    "# Version\n",
    "exp_version = 'v5.3'  # Experiment version\n",
    "data_prep = 'std'  # full = data transformation, representation, std = standard, only dummy encode\n",
    "var_set = 'all'  # all = all vars, fs = top fisher score, pca = first PCs\n",
    "fname = '_' + data_prep + '_' + var_set + '_' + exp_version  # Name of output file\n",
    "print(fname)"
   ]
  },
  {
   "cell_type": "code",
   "execution_count": 2,
   "metadata": {},
   "outputs": [
    {
     "name": "stdout",
     "output_type": "stream",
     "text": [
      "Wall time: 0 ns\n"
     ]
    }
   ],
   "source": [
    "%%time\n",
    "# Flag variables to run the data processing steps\n",
    "# Feature engineering step\n",
    "enable_num_poly = False  # Add polynomial terms\n",
    "# Value transformation step\n",
    "enable_trans_cat_dt = False  # Remapping cat variables - Decision tree–based remapping\n",
    "enable_trans_num_dt = False  # Discretizing num variables - Decision tree–based discretization\n",
    "enable_trans_num_ef = False  # Discretizing num variables - Equal frequency discretization\n",
    "enable_trans_num_ew = False  # Discretizing num variables - Equal width discretization\n",
    "# Value representation step\n",
    "enable_repr_dummy = True  # Represent cat variables - Dummy coding\n",
    "enable_repr_icd = False  # Represent cat variables - Incidence (of target variable) replacement\n",
    "enable_repr_woe = False  # Represent cat variables - Weight-of-Evidence (WoE) conversion\n",
    "drop_cat_vars = True  # Drop cat variables after value representation step\n",
    "# Other data processing\n",
    "enable_normalize = True  # Normalize the data to the same range [0, 1]"
   ]
  },
  {
   "cell_type": "markdown",
   "metadata": {},
   "source": [
    "## Initiation"
   ]
  },
  {
   "cell_type": "code",
   "execution_count": 3,
   "metadata": {},
   "outputs": [
    {
     "name": "stdout",
     "output_type": "stream",
     "text": [
      "Wall time: 4.59 s\n"
     ]
    }
   ],
   "source": [
    "%%time\n",
    "# Data exploration\n",
    "import matplotlib.pyplot as plt\n",
    "\n",
    "# Data processing\n",
    "import pickle\n",
    "import numpy as np\n",
    "import pandas as pd\n",
    "from sklearn.impute import SimpleImputer\n",
    "from sklearn.preprocessing import OrdinalEncoder, OneHotEncoder, KBinsDiscretizer\n",
    "from sklearn.preprocessing import PolynomialFeatures\n",
    "from sklearn.preprocessing import MinMaxScaler\n",
    "from sklearn.feature_selection import mutual_info_classif, VarianceThreshold\n",
    "from sklearn.feature_selection import SelectFromModel\n",
    "from sklearn.decomposition import PCA\n",
    "\n",
    "# Modeling\n",
    "from sklearn.linear_model import LogisticRegression\n",
    "from sklearn.discriminant_analysis import LinearDiscriminantAnalysis\n",
    "from sklearn.tree import DecisionTreeClassifier\n",
    "from sklearn.ensemble import RandomForestClassifier\n",
    "from sklearn.ensemble import GradientBoostingClassifier, AdaBoostClassifier\n",
    "from sklearn.svm import LinearSVC\n",
    "from sklearn.neural_network import MLPClassifier\n",
    "from lightgbm import LGBMClassifier\n",
    "\n",
    "# Experimental setup\n",
    "from sklearn.model_selection import KFold, StratifiedKFold, cross_validate, GridSearchCV\n",
    "from imblearn.over_sampling import SMOTE, RandomOverSampler\n",
    "from imblearn.pipeline import Pipeline\n",
    "from sklearn.metrics import roc_auc_score\n",
    "from sklearn.model_selection import learning_curve"
   ]
  },
  {
   "cell_type": "markdown",
   "metadata": {},
   "source": [
    "## 1. Data summary"
   ]
  },
  {
   "cell_type": "markdown",
   "metadata": {},
   "source": [
    "#### (a) Read and print out some data"
   ]
  },
  {
   "cell_type": "code",
   "execution_count": 4,
   "metadata": {},
   "outputs": [
    {
     "name": "stdout",
     "output_type": "stream",
     "text": [
      "Wall time: 712 ms\n"
     ]
    }
   ],
   "source": [
    "%%time\n",
    "# Read train, test\n",
    "train = pd.read_csv('./data/processed/kaggle/orange_churn_train.csv', low_memory=False)\n",
    "test = pd.read_csv('./data/processed/kaggle/orange_churn_test.csv', low_memory=False)"
   ]
  },
  {
   "cell_type": "code",
   "execution_count": 5,
   "metadata": {},
   "outputs": [
    {
     "name": "stdout",
     "output_type": "stream",
     "text": [
      "float64    191\n",
      "object      38\n",
      "int64        3\n",
      "dtype: int64\n",
      "Wall time: 2.01 ms\n"
     ]
    },
    {
     "data": {
      "text/html": [
       "<div>\n",
       "<style scoped>\n",
       "    .dataframe tbody tr th:only-of-type {\n",
       "        vertical-align: middle;\n",
       "    }\n",
       "\n",
       "    .dataframe tbody tr th {\n",
       "        vertical-align: top;\n",
       "    }\n",
       "\n",
       "    .dataframe thead th {\n",
       "        text-align: right;\n",
       "    }\n",
       "</style>\n",
       "<table border=\"1\" class=\"dataframe\">\n",
       "  <thead>\n",
       "    <tr style=\"text-align: right;\">\n",
       "      <th></th>\n",
       "      <th>cust_id</th>\n",
       "      <th>Var1</th>\n",
       "      <th>Var2</th>\n",
       "      <th>Var3</th>\n",
       "      <th>Var4</th>\n",
       "      <th>Var5</th>\n",
       "      <th>Var6</th>\n",
       "      <th>Var7</th>\n",
       "      <th>Var8</th>\n",
       "      <th>Var9</th>\n",
       "      <th>...</th>\n",
       "      <th>Var222</th>\n",
       "      <th>Var223</th>\n",
       "      <th>Var224</th>\n",
       "      <th>Var225</th>\n",
       "      <th>Var226</th>\n",
       "      <th>Var227</th>\n",
       "      <th>Var228</th>\n",
       "      <th>Var229</th>\n",
       "      <th>Var230</th>\n",
       "      <th>churn</th>\n",
       "    </tr>\n",
       "  </thead>\n",
       "  <tbody>\n",
       "    <tr>\n",
       "      <th>0</th>\n",
       "      <td>3</td>\n",
       "      <td>NaN</td>\n",
       "      <td>NaN</td>\n",
       "      <td>NaN</td>\n",
       "      <td>NaN</td>\n",
       "      <td>NaN</td>\n",
       "      <td>1351.0</td>\n",
       "      <td>7.0</td>\n",
       "      <td>NaN</td>\n",
       "      <td>NaN</td>\n",
       "      <td>...</td>\n",
       "      <td>catzS2D</td>\n",
       "      <td>LM8l689qOp</td>\n",
       "      <td>NaN</td>\n",
       "      <td>ELof</td>\n",
       "      <td>7P5s</td>\n",
       "      <td>ZI9m</td>\n",
       "      <td>NoEd</td>\n",
       "      <td>mj86</td>\n",
       "      <td>NaN</td>\n",
       "      <td>0</td>\n",
       "    </tr>\n",
       "    <tr>\n",
       "      <th>1</th>\n",
       "      <td>4</td>\n",
       "      <td>NaN</td>\n",
       "      <td>NaN</td>\n",
       "      <td>NaN</td>\n",
       "      <td>NaN</td>\n",
       "      <td>NaN</td>\n",
       "      <td>644.0</td>\n",
       "      <td>0.0</td>\n",
       "      <td>NaN</td>\n",
       "      <td>NaN</td>\n",
       "      <td>...</td>\n",
       "      <td>76DJixu</td>\n",
       "      <td>LM8l689qOp</td>\n",
       "      <td>NaN</td>\n",
       "      <td>NaN</td>\n",
       "      <td>7P5s</td>\n",
       "      <td>RAYp</td>\n",
       "      <td>F2FyR07IdsN7I</td>\n",
       "      <td>NaN</td>\n",
       "      <td>NaN</td>\n",
       "      <td>0</td>\n",
       "    </tr>\n",
       "    <tr>\n",
       "      <th>2</th>\n",
       "      <td>7</td>\n",
       "      <td>NaN</td>\n",
       "      <td>NaN</td>\n",
       "      <td>NaN</td>\n",
       "      <td>NaN</td>\n",
       "      <td>NaN</td>\n",
       "      <td>2583.0</td>\n",
       "      <td>0.0</td>\n",
       "      <td>NaN</td>\n",
       "      <td>NaN</td>\n",
       "      <td>...</td>\n",
       "      <td>I5dzv5f</td>\n",
       "      <td>LM8l689qOp</td>\n",
       "      <td>NaN</td>\n",
       "      <td>NaN</td>\n",
       "      <td>FSa2</td>\n",
       "      <td>RAYp</td>\n",
       "      <td>F2FyR07IdsN7I</td>\n",
       "      <td>NaN</td>\n",
       "      <td>NaN</td>\n",
       "      <td>1</td>\n",
       "    </tr>\n",
       "    <tr>\n",
       "      <th>3</th>\n",
       "      <td>8</td>\n",
       "      <td>NaN</td>\n",
       "      <td>NaN</td>\n",
       "      <td>NaN</td>\n",
       "      <td>NaN</td>\n",
       "      <td>NaN</td>\n",
       "      <td>1463.0</td>\n",
       "      <td>7.0</td>\n",
       "      <td>NaN</td>\n",
       "      <td>NaN</td>\n",
       "      <td>...</td>\n",
       "      <td>xwyAw04</td>\n",
       "      <td>LM8l689qOp</td>\n",
       "      <td>NaN</td>\n",
       "      <td>kG3k</td>\n",
       "      <td>fKCe</td>\n",
       "      <td>RAYp</td>\n",
       "      <td>F2FyR07IdsN7I</td>\n",
       "      <td>mj86</td>\n",
       "      <td>NaN</td>\n",
       "      <td>0</td>\n",
       "    </tr>\n",
       "    <tr>\n",
       "      <th>4</th>\n",
       "      <td>9</td>\n",
       "      <td>NaN</td>\n",
       "      <td>NaN</td>\n",
       "      <td>NaN</td>\n",
       "      <td>NaN</td>\n",
       "      <td>NaN</td>\n",
       "      <td>77.0</td>\n",
       "      <td>0.0</td>\n",
       "      <td>NaN</td>\n",
       "      <td>NaN</td>\n",
       "      <td>...</td>\n",
       "      <td>76DJixu</td>\n",
       "      <td>NaN</td>\n",
       "      <td>NaN</td>\n",
       "      <td>NaN</td>\n",
       "      <td>7P5s</td>\n",
       "      <td>RAYp</td>\n",
       "      <td>F2FyR07IdsN7I</td>\n",
       "      <td>NaN</td>\n",
       "      <td>NaN</td>\n",
       "      <td>0</td>\n",
       "    </tr>\n",
       "  </tbody>\n",
       "</table>\n",
       "<p>5 rows × 232 columns</p>\n",
       "</div>"
      ],
      "text/plain": [
       "   cust_id  Var1  Var2  Var3  Var4  Var5    Var6  Var7  Var8  Var9  ...  \\\n",
       "0        3   NaN   NaN   NaN   NaN   NaN  1351.0   7.0   NaN   NaN  ...   \n",
       "1        4   NaN   NaN   NaN   NaN   NaN   644.0   0.0   NaN   NaN  ...   \n",
       "2        7   NaN   NaN   NaN   NaN   NaN  2583.0   0.0   NaN   NaN  ...   \n",
       "3        8   NaN   NaN   NaN   NaN   NaN  1463.0   7.0   NaN   NaN  ...   \n",
       "4        9   NaN   NaN   NaN   NaN   NaN    77.0   0.0   NaN   NaN  ...   \n",
       "\n",
       "    Var222      Var223  Var224  Var225  Var226  Var227         Var228  Var229  \\\n",
       "0  catzS2D  LM8l689qOp     NaN    ELof    7P5s    ZI9m           NoEd    mj86   \n",
       "1  76DJixu  LM8l689qOp     NaN     NaN    7P5s    RAYp  F2FyR07IdsN7I     NaN   \n",
       "2  I5dzv5f  LM8l689qOp     NaN     NaN    FSa2    RAYp  F2FyR07IdsN7I     NaN   \n",
       "3  xwyAw04  LM8l689qOp     NaN    kG3k    fKCe    RAYp  F2FyR07IdsN7I    mj86   \n",
       "4  76DJixu         NaN     NaN     NaN    7P5s    RAYp  F2FyR07IdsN7I     NaN   \n",
       "\n",
       "   Var230  churn  \n",
       "0     NaN      0  \n",
       "1     NaN      0  \n",
       "2     NaN      1  \n",
       "3     NaN      0  \n",
       "4     NaN      0  \n",
       "\n",
       "[5 rows x 232 columns]"
      ]
     },
     "execution_count": 5,
     "metadata": {},
     "output_type": "execute_result"
    }
   ],
   "source": [
    "%%time\n",
    "# Print out to check the data\n",
    "print(train.dtypes.value_counts())\n",
    "train.head()"
   ]
  },
  {
   "cell_type": "markdown",
   "metadata": {},
   "source": [
    "#### (b) Create a list of column names to manage variables"
   ]
  },
  {
   "cell_type": "code",
   "execution_count": 6,
   "metadata": {},
   "outputs": [
    {
     "name": "stdout",
     "output_type": "stream",
     "text": [
      "Wall time: 0 ns\n"
     ]
    }
   ],
   "source": [
    "%%time\n",
    "# List of numerical and catergorical variables\n",
    "id_var = [\"cust_id\"]  # ID\n",
    "num_vars = train.columns[1:191].tolist()  # First 190 vars\n",
    "cat_vars = train.columns[191:231].tolist()  # Last 40 vars\n",
    "# Target get variable\n",
    "target_var = [\"churn\"]"
   ]
  },
  {
   "cell_type": "markdown",
   "metadata": {},
   "source": [
    "#### (c) Check the target variable class distribution"
   ]
  },
  {
   "cell_type": "code",
   "execution_count": 7,
   "metadata": {},
   "outputs": [
    {
     "name": "stdout",
     "output_type": "stream",
     "text": [
      "churn\n",
      "0        9264\n",
      "1         736\n",
      "dtype: int64\n",
      "churn\n",
      "0        0.9264\n",
      "1        0.0736\n",
      "dtype: float64\n",
      "Wall time: 8.98 ms\n"
     ]
    }
   ],
   "source": [
    "%%time\n",
    "# By number\n",
    "print(train[target_var].value_counts())\n",
    "# By percentage\n",
    "print(train[target_var].value_counts(normalize=True))"
   ]
  },
  {
   "cell_type": "markdown",
   "metadata": {},
   "source": [
    "## 2. Processing data"
   ]
  },
  {
   "cell_type": "markdown",
   "metadata": {},
   "source": [
    "### 2.1. Error, data correction"
   ]
  },
  {
   "cell_type": "markdown",
   "metadata": {},
   "source": [
    "#### (a) Check and correct data error - Constant variables\n",
    "\n",
    "Constant variables on train do not contain information and may cause data processing or model training error."
   ]
  },
  {
   "cell_type": "code",
   "execution_count": 8,
   "metadata": {},
   "outputs": [
    {
     "name": "stdout",
     "output_type": "stream",
     "text": [
      "Drop constant variable: ['Var8', 'Var15', 'Var20', 'Var31', 'Var32', 'Var39', 'Var42', 'Var48', 'Var52', 'Var55', 'Var79', 'Var141', 'Var167', 'Var169', 'Var175', 'Var185', 'Var209', 'Var230']\n",
      "Wall time: 134 ms\n"
     ]
    }
   ],
   "source": [
    "%%time\n",
    "# Count number of unique values of each variable\n",
    "vars_nunique = train[num_vars + cat_vars].apply(pd.Series.nunique, dropna=False, axis=0)\n",
    "cont_vars = vars_nunique.index[vars_nunique < 2].tolist()\n",
    "print(\"Drop constant variable:\", cont_vars)\n",
    "# Correct variable list\n",
    "num_vars = [v for v in num_vars if v not in cont_vars]\n",
    "cat_vars = [v for v in cat_vars if v not in cont_vars]\n",
    "# Update train, test\n",
    "train = train[id_var + num_vars + cat_vars + target_var]\n",
    "test = test[id_var + num_vars + cat_vars]"
   ]
  },
  {
   "cell_type": "markdown",
   "metadata": {},
   "source": [
    "#### (b) Check and correct data error - Missing values\n",
    "\n",
    "<u>Note:</u>\n",
    "- Always create indicators (dummy variable) to track the missing values imputation.\n",
    "- Since we already filtered out the constant NA vars, the imputor will not drop any vars."
   ]
  },
  {
   "cell_type": "code",
   "execution_count": 9,
   "metadata": {},
   "outputs": [
    {
     "name": "stdout",
     "output_type": "stream",
     "text": [
      "Train - # NA of num vars: 1345535\n",
      "Train - # NA of cat vars: 79067\n",
      "Test - # NA of num vars: 1345234\n",
      "Test - # NA of cat vars: 79296\n",
      "Wall time: 82 ms\n"
     ]
    }
   ],
   "source": [
    "%%time\n",
    "# Check missing value\n",
    "print('Train - # NA of num vars:', train[num_vars].isna().sum().sum())\n",
    "print('Train - # NA of cat vars:', train[cat_vars].isna().sum().sum())\n",
    "print('Test - # NA of num vars:', test[num_vars].isna().sum().sum())\n",
    "print('Test - # NA of cat vars:', test[cat_vars].isna().sum().sum())"
   ]
  },
  {
   "cell_type": "code",
   "execution_count": 10,
   "metadata": {},
   "outputs": [],
   "source": [
    "# %%time\n",
    "# # Here, we test the effect of dropping variables with high missing percentage (>30%)\n",
    "# # Drop num variables with more than 30% missing values\n",
    "# num_na_pct = train[num_vars].isnull().mean()\n",
    "# num_vars = num_na_pct[num_na_pct <= 0.3].index.tolist()\n",
    "# # Drop cat variables with more than 30% missing values\n",
    "# cat_na_pct = train[cat_vars].isnull().mean()\n",
    "# cat_vars = cat_na_pct[cat_na_pct <= 0.3].index.tolist()\n",
    "# # Update train, test\n",
    "# train = train[id_var + num_vars + cat_vars + target_var]\n",
    "# test = test[id_var + num_vars + cat_vars]"
   ]
  },
  {
   "cell_type": "code",
   "execution_count": 11,
   "metadata": {},
   "outputs": [
    {
     "name": "stdout",
     "output_type": "stream",
     "text": [
      "Wall time: 0 ns\n"
     ]
    }
   ],
   "source": [
    "%%time\n",
    "# List dummary variables to track missing values imputation\n",
    "na_vars = []"
   ]
  },
  {
   "cell_type": "code",
   "execution_count": 12,
   "metadata": {},
   "outputs": [
    {
     "name": "stdout",
     "output_type": "stream",
     "text": [
      "Wall time: 560 ms\n"
     ]
    }
   ],
   "source": [
    "%%time\n",
    "# Numerical variables\n",
    "# Build the missing value imputor using the mean\n",
    "imp = SimpleImputer(missing_values=np.nan, strategy='mean', add_indicator=True)\n",
    "imp.fit(train[num_vars])\n",
    "# Reconstruct the list of vars + indicators\n",
    "na_vars = na_vars + [num_vars[v] + \"_na\" for v in imp.indicator_.features_]\n",
    "impute_vars = num_vars + na_vars\n",
    "# Apply on train, test\n",
    "train[impute_vars] = pd.DataFrame(imp.transform(train[num_vars]), columns=impute_vars)\n",
    "test[impute_vars] = pd.DataFrame(imp.transform(test[num_vars]), columns=impute_vars)"
   ]
  },
  {
   "cell_type": "code",
   "execution_count": 13,
   "metadata": {},
   "outputs": [
    {
     "name": "stdout",
     "output_type": "stream",
     "text": [
      "Wall time: 143 ms\n"
     ]
    }
   ],
   "source": [
    "%%time\n",
    "# Categorical variables\n",
    "# Impute missing value using a new category \"Missing\"\n",
    "# Note: If the categorical vars are imputed by most_frequent, the indicators should be added\n",
    "train[cat_vars] = train[cat_vars].fillna('Missing')\n",
    "test[cat_vars] = test[cat_vars].fillna('Missing')"
   ]
  },
  {
   "cell_type": "markdown",
   "metadata": {},
   "source": [
    "#### (c) Check and correct data error - Outliers in numerical variables\n",
    "\n",
    "Here, we only check but not impute the outliers.\n",
    "\n",
    "<u>Note:</u>\n",
    "- Before correcting outliers, make sure to understand the nature of the error.\n",
    "- Do not need to correct outliers for missing values indicators."
   ]
  },
  {
   "cell_type": "code",
   "execution_count": 14,
   "metadata": {},
   "outputs": [
    {
     "name": "stdout",
     "output_type": "stream",
     "text": [
      "Var1 has # outliers on train, test : 21 [ 0.21 % ] 21 [ 0.21 % ]\n",
      "Var3 has # outliers on train, test : 12 [ 0.12 % ] 3 [ 0.03 % ]\n",
      "Var4 has # outliers on train, test : 2 [ 0.02 % ] 3 [ 0.03 % ]\n",
      "Var5 has # outliers on train, test : 27 [ 0.27 % ] 29 [ 0.29 % ]\n",
      "Var6 has # outliers on train, test : 85 [ 0.85 % ] 85 [ 0.85 % ]\n",
      "Var7 has # outliers on train, test : 214 [ 2.14 % ] 190 [ 1.9 % ]\n",
      "Var9 has # outliers on train, test : 66 [ 0.66 % ] 76 [ 0.76 % ]\n",
      "Var10 has # outliers on train, test : 37 [ 0.37 % ] 32 [ 0.32 % ]\n",
      "Var11 has # outliers on train, test : 18 [ 0.18 % ] 14 [ 0.14 % ]\n",
      "Var12 has # outliers on train, test : 75 [ 0.75 % ] 81 [ 0.81 % ]\n",
      "Var13 has # outliers on train, test : 85 [ 0.85 % ] 72 [ 0.72 % ]\n",
      "Var14 has # outliers on train, test : 14 [ 0.14 % ] 11 [ 0.11 % ]\n",
      "Var16 has # outliers on train, test : 200 [ 2.0 % ] 174 [ 1.74 % ]\n",
      "Var17 has # outliers on train, test : 32 [ 0.32 % ] 37 [ 0.37 % ]\n",
      "Var18 has # outliers on train, test : 12 [ 0.12 % ] 18 [ 0.18 % ]\n",
      "Var19 has # outliers on train, test : 7 [ 0.07 % ] 6 [ 0.06 % ]\n",
      "Var21 has # outliers on train, test : 64 [ 0.64 % ] 67 [ 0.67 % ]\n",
      "Var22 has # outliers on train, test : 65 [ 0.65 % ] 66 [ 0.66 % ]\n",
      "Var23 has # outliers on train, test : 39 [ 0.39 % ] 42 [ 0.42 % ]\n",
      "Var24 has # outliers on train, test : 77 [ 0.77 % ] 97 [ 0.97 % ]\n",
      "Var25 has # outliers on train, test : 78 [ 0.78 % ] 83 [ 0.83 % ]\n",
      "Var26 has # outliers on train, test : 3 [ 0.03 % ] 5 [ 0.05 % ]\n",
      "Var27 has # outliers on train, test : 5 [ 0.05 % ] 6 [ 0.06 % ]\n",
      "Var28 has # outliers on train, test : 131 [ 1.31 % ] 138 [ 1.38 % ]\n",
      "Var29 has # outliers on train, test : 0 [ 0.0 % ] 1 [ 0.01 % ]\n",
      "Var30 has # outliers on train, test : 125 [ 1.25 % ] 141 [ 1.41 % ]\n",
      "Var33 has # outliers on train, test : 113 [ 1.13 % ] 127 [ 1.27 % ]\n",
      "Var34 has # outliers on train, test : 25 [ 0.25 % ] 21 [ 0.21 % ]\n",
      "Var35 has # outliers on train, test : 258 [ 2.58 % ] 320 [ 3.2 % ]\n",
      "Var36 has # outliers on train, test : 43 [ 0.43 % ] 42 [ 0.42 % ]\n",
      "Var37 has # outliers on train, test : 63 [ 0.63 % ] 59 [ 0.59 % ]\n",
      "Var38 has # outliers on train, test : 96 [ 0.96 % ] 116 [ 1.16 % ]\n",
      "Var40 has # outliers on train, test : 33 [ 0.33 % ] 23 [ 0.23 % ]\n",
      "Var41 has # outliers on train, test : 85 [ 0.85 % ] 97 [ 0.97 % ]\n",
      "Var43 has # outliers on train, test : 39 [ 0.39 % ] 29 [ 0.29 % ]\n",
      "Var44 has # outliers on train, test : 138 [ 1.38 % ] 133 [ 1.33 % ]\n",
      "Var45 has # outliers on train, test : 65 [ 0.65 % ] 51 [ 0.51 % ]\n",
      "Var46 has # outliers on train, test : 14 [ 0.14 % ] 15 [ 0.15 % ]\n",
      "Var47 has # outliers on train, test : 9 [ 0.09 % ] 14 [ 0.14 % ]\n",
      "Var49 has # outliers on train, test : 5 [ 0.05 % ] 2 [ 0.02 % ]\n",
      "Var50 has # outliers on train, test : 13 [ 0.13 % ] 14 [ 0.14 % ]\n",
      "Var51 has # outliers on train, test : 108 [ 1.08 % ] 119 [ 1.19 % ]\n",
      "Var53 has # outliers on train, test : 95 [ 0.95 % ] 102 [ 1.02 % ]\n",
      "Var54 has # outliers on train, test : 172 [ 1.72 % ] 153 [ 1.53 % ]\n",
      "Var56 has # outliers on train, test : 118 [ 1.18 % ] 92 [ 0.92 % ]\n",
      "Var58 has # outliers on train, test : 14 [ 0.14 % ] 9 [ 0.09 % ]\n",
      "Var59 has # outliers on train, test : 107 [ 1.07 % ] 98 [ 0.98 % ]\n",
      "Var60 has # outliers on train, test : 39 [ 0.39 % ] 29 [ 0.29 % ]\n",
      "Var61 has # outliers on train, test : 104 [ 1.04 % ] 106 [ 1.06 % ]\n",
      "Var62 has # outliers on train, test : 102 [ 1.02 % ] 109 [ 1.09 % ]\n",
      "Var63 has # outliers on train, test : 76 [ 0.76 % ] 85 [ 0.85 % ]\n",
      "Var64 has # outliers on train, test : 41 [ 0.41 % ] 30 [ 0.3 % ]\n",
      "Var65 has # outliers on train, test : 347 [ 3.47 % ] 313 [ 3.13 % ]\n",
      "Var66 has # outliers on train, test : 66 [ 0.66 % ] 76 [ 0.76 % ]\n",
      "Var67 has # outliers on train, test : 1 [ 0.01 % ] 0 [ 0.0 % ]\n",
      "Var68 has # outliers on train, test : 20 [ 0.2 % ] 19 [ 0.19 % ]\n",
      "Var69 has # outliers on train, test : 237 [ 2.37 % ] 202 [ 2.02 % ]\n",
      "Var70 has # outliers on train, test : 46 [ 0.46 % ] 50 [ 0.5 % ]\n",
      "Var71 has # outliers on train, test : 114 [ 1.14 % ] 99 [ 0.99 % ]\n",
      "Var72 has # outliers on train, test : 184 [ 1.84 % ] 159 [ 1.59 % ]\n",
      "Var73 has # outliers on train, test : 31 [ 0.31 % ] 31 [ 0.31 % ]\n",
      "Var74 has # outliers on train, test : 47 [ 0.47 % ] 31 [ 0.31 % ]\n",
      "Var75 has # outliers on train, test : 140 [ 1.4 % ] 132 [ 1.32 % ]\n",
      "Var76 has # outliers on train, test : 73 [ 0.73 % ] 102 [ 1.02 % ]\n",
      "Var77 has # outliers on train, test : 101 [ 1.01 % ] 118 [ 1.18 % ]\n",
      "Var78 has # outliers on train, test : 235 [ 2.35 % ] 207 [ 2.07 % ]\n",
      "Var80 has # outliers on train, test : 26 [ 0.26 % ] 24 [ 0.24 % ]\n",
      "Var81 has # outliers on train, test : 95 [ 0.95 % ] 97 [ 0.97 % ]\n",
      "Var82 has # outliers on train, test : 174 [ 1.74 % ] 189 [ 1.89 % ]\n",
      "Var83 has # outliers on train, test : 60 [ 0.6 % ] 55 [ 0.55 % ]\n",
      "Var84 has # outliers on train, test : 12 [ 0.12 % ] 10 [ 0.1 % ]\n",
      "Var85 has # outliers on train, test : 95 [ 0.95 % ] 80 [ 0.8 % ]\n",
      "Var86 has # outliers on train, test : 106 [ 1.06 % ] 123 [ 1.23 % ]\n",
      "Var87 has # outliers on train, test : 73 [ 0.73 % ] 77 [ 0.77 % ]\n",
      "Var88 has # outliers on train, test : 23 [ 0.23 % ] 25 [ 0.25 % ]\n",
      "Var89 has # outliers on train, test : 21 [ 0.21 % ] 17 [ 0.17 % ]\n",
      "Var90 has # outliers on train, test : 1 [ 0.01 % ] 0 [ 0.0 % ]\n",
      "Var91 has # outliers on train, test : 114 [ 1.14 % ] 99 [ 0.99 % ]\n",
      "Var92 has # outliers on train, test : 33 [ 0.33 % ] 23 [ 0.23 % ]\n",
      "Var93 has # outliers on train, test : 13 [ 0.13 % ] 19 [ 0.19 % ]\n",
      "Var94 has # outliers on train, test : 166 [ 1.66 % ] 180 [ 1.8 % ]\n",
      "Var95 has # outliers on train, test : 22 [ 0.22 % ] 21 [ 0.21 % ]\n",
      "Var96 has # outliers on train, test : 11 [ 0.11 % ] 14 [ 0.14 % ]\n",
      "Var97 has # outliers on train, test : 27 [ 0.27 % ] 18 [ 0.18 % ]\n",
      "Var98 has # outliers on train, test : 14 [ 0.14 % ] 3 [ 0.03 % ]\n",
      "Var99 has # outliers on train, test : 33 [ 0.33 % ] 42 [ 0.42 % ]\n",
      "Var100 has # outliers on train, test : 12 [ 0.12 % ] 11 [ 0.11 % ]\n",
      "Var101 has # outliers on train, test : 10 [ 0.1 % ] 16 [ 0.16 % ]\n",
      "Var102 has # outliers on train, test : 75 [ 0.75 % ] 70 [ 0.7 % ]\n",
      "Var103 has # outliers on train, test : 29 [ 0.29 % ] 25 [ 0.25 % ]\n",
      "Var104 has # outliers on train, test : 103 [ 1.03 % ] 110 [ 1.1 % ]\n",
      "Var105 has # outliers on train, test : 103 [ 1.03 % ] 110 [ 1.1 % ]\n",
      "Var106 has # outliers on train, test : 22 [ 0.22 % ] 32 [ 0.32 % ]\n",
      "Var107 has # outliers on train, test : 32 [ 0.32 % ] 40 [ 0.4 % ]\n",
      "Var108 has # outliers on train, test : 103 [ 1.03 % ] 109 [ 1.09 % ]\n",
      "Var109 has # outliers on train, test : 85 [ 0.85 % ] 92 [ 0.92 % ]\n",
      "Var110 has # outliers on train, test : 11 [ 0.11 % ] 8 [ 0.08 % ]\n",
      "Var111 has # outliers on train, test : 135 [ 1.35 % ] 116 [ 1.16 % ]\n",
      "Var112 has # outliers on train, test : 68 [ 0.68 % ] 78 [ 0.78 % ]\n",
      "Var113 has # outliers on train, test : 187 [ 1.87 % ] 190 [ 1.9 % ]\n",
      "Var114 has # outliers on train, test : 206 [ 2.06 % ] 176 [ 1.76 % ]\n",
      "Var115 has # outliers on train, test : 108 [ 1.08 % ] 103 [ 1.03 % ]\n",
      "Var116 has # outliers on train, test : 1 [ 0.01 % ] 4 [ 0.04 % ]\n",
      "Var117 has # outliers on train, test : 47 [ 0.47 % ] 43 [ 0.43 % ]\n",
      "Var119 has # outliers on train, test : 83 [ 0.83 % ] 89 [ 0.89 % ]\n",
      "Var120 has # outliers on train, test : 31 [ 0.31 % ] 24 [ 0.24 % ]\n",
      "Var121 has # outliers on train, test : 78 [ 0.78 % ] 90 [ 0.9 % ]\n",
      "Var122 has # outliers on train, test : 1 [ 0.01 % ] 4 [ 0.04 % ]\n",
      "Var123 has # outliers on train, test : 46 [ 0.46 % ] 45 [ 0.45 % ]\n",
      "Var124 has # outliers on train, test : 33 [ 0.33 % ] 30 [ 0.3 % ]\n",
      "Var125 has # outliers on train, test : 47 [ 0.47 % ] 58 [ 0.58 % ]\n",
      "Var126 has # outliers on train, test : 118 [ 1.18 % ] 122 [ 1.22 % ]\n",
      "Var127 has # outliers on train, test : 10 [ 0.1 % ] 16 [ 0.16 % ]\n",
      "Var128 has # outliers on train, test : 23 [ 0.23 % ] 25 [ 0.25 % ]\n",
      "Var129 has # outliers on train, test : 69 [ 0.69 % ] 74 [ 0.74 % ]\n",
      "Var130 has # outliers on train, test : 44 [ 0.44 % ] 32 [ 0.32 % ]\n",
      "Var131 has # outliers on train, test : 3 [ 0.03 % ] 6 [ 0.06 % ]\n",
      "Var132 has # outliers on train, test : 327 [ 3.27 % ] 344 [ 3.44 % ]\n",
      "Var133 has # outliers on train, test : 164 [ 1.64 % ] 186 [ 1.86 % ]\n",
      "Var134 has # outliers on train, test : 231 [ 2.31 % ] 220 [ 2.2 % ]\n",
      "Var135 has # outliers on train, test : 199 [ 1.99 % ] 195 [ 1.95 % ]\n",
      "Var136 has # outliers on train, test : 84 [ 0.84 % ] 100 [ 1.0 % ]\n",
      "Var137 has # outliers on train, test : 10 [ 0.1 % ] 12 [ 0.12 % ]\n",
      "Var138 has # outliers on train, test : 1 [ 0.01 % ] 0 [ 0.0 % ]\n"
     ]
    },
    {
     "name": "stdout",
     "output_type": "stream",
     "text": [
      "Var139 has # outliers on train, test : 42 [ 0.42 % ] 46 [ 0.46 % ]\n",
      "Var140 has # outliers on train, test : 178 [ 1.78 % ] 186 [ 1.86 % ]\n",
      "Var142 has # outliers on train, test : 125 [ 1.25 % ] 141 [ 1.41 % ]\n",
      "Var143 has # outliers on train, test : 66 [ 0.66 % ] 93 [ 0.93 % ]\n",
      "Var144 has # outliers on train, test : 223 [ 2.23 % ] 220 [ 2.2 % ]\n",
      "Var145 has # outliers on train, test : 26 [ 0.26 % ] 29 [ 0.29 % ]\n",
      "Var146 has # outliers on train, test : 28 [ 0.28 % ] 12 [ 0.12 % ]\n",
      "Var147 has # outliers on train, test : 160 [ 1.6 % ] 147 [ 1.47 % ]\n",
      "Var148 has # outliers on train, test : 33 [ 0.33 % ] 36 [ 0.36 % ]\n",
      "Var149 has # outliers on train, test : 118 [ 1.18 % ] 129 [ 1.29 % ]\n",
      "Var150 has # outliers on train, test : 44 [ 0.44 % ] 41 [ 0.41 % ]\n",
      "Var151 has # outliers on train, test : 113 [ 1.13 % ] 121 [ 1.21 % ]\n",
      "Var152 has # outliers on train, test : 131 [ 1.31 % ] 138 [ 1.38 % ]\n",
      "Var154 has # outliers on train, test : 102 [ 1.02 % ] 125 [ 1.25 % ]\n",
      "Var155 has # outliers on train, test : 27 [ 0.27 % ] 28 [ 0.28 % ]\n",
      "Var156 has # outliers on train, test : 66 [ 0.66 % ] 76 [ 0.76 % ]\n",
      "Var157 has # outliers on train, test : 140 [ 1.4 % ] 122 [ 1.22 % ]\n",
      "Var158 has # outliers on train, test : 17 [ 0.17 % ] 24 [ 0.24 % ]\n",
      "Var159 has # outliers on train, test : 32 [ 0.32 % ] 30 [ 0.3 % ]\n",
      "Var160 has # outliers on train, test : 69 [ 0.69 % ] 72 [ 0.72 % ]\n",
      "Var161 has # outliers on train, test : 59 [ 0.59 % ] 58 [ 0.58 % ]\n",
      "Var162 has # outliers on train, test : 28 [ 0.28 % ] 15 [ 0.15 % ]\n",
      "Var163 has # outliers on train, test : 209 [ 2.09 % ] 247 [ 2.47 % ]\n",
      "Var164 has # outliers on train, test : 18 [ 0.18 % ] 24 [ 0.24 % ]\n",
      "Var165 has # outliers on train, test : 21 [ 0.21 % ] 15 [ 0.15 % ]\n",
      "Var166 has # outliers on train, test : 32 [ 0.32 % ] 37 [ 0.37 % ]\n",
      "Var168 has # outliers on train, test : 90 [ 0.9 % ] 93 [ 0.93 % ]\n",
      "Var170 has # outliers on train, test : 43 [ 0.43 % ] 32 [ 0.32 % ]\n",
      "Var171 has # outliers on train, test : 130 [ 1.3 % ] 150 [ 1.5 % ]\n",
      "Var172 has # outliers on train, test : 132 [ 1.32 % ] 103 [ 1.03 % ]\n",
      "Var173 has # outliers on train, test : 31 [ 0.31 % ] 37 [ 0.37 % ]\n",
      "Var174 has # outliers on train, test : 34 [ 0.34 % ] 38 [ 0.38 % ]\n",
      "Var176 has # outliers on train, test : 18 [ 0.18 % ] 14 [ 0.14 % ]\n",
      "Var177 has # outliers on train, test : 44 [ 0.44 % ] 30 [ 0.3 % ]\n",
      "Var178 has # outliers on train, test : 57 [ 0.57 % ] 55 [ 0.55 % ]\n",
      "Var179 has # outliers on train, test : 8 [ 0.08 % ] 10 [ 0.1 % ]\n",
      "Var180 has # outliers on train, test : 109 [ 1.09 % ] 122 [ 1.22 % ]\n",
      "Var181 has # outliers on train, test : 173 [ 1.73 % ] 153 [ 1.53 % ]\n",
      "Var182 has # outliers on train, test : 215 [ 2.15 % ] 238 [ 2.38 % ]\n",
      "Var183 has # outliers on train, test : 31 [ 0.31 % ] 18 [ 0.18 % ]\n",
      "Var184 has # outliers on train, test : 35 [ 0.35 % ] 27 [ 0.27 % ]\n",
      "Var186 has # outliers on train, test : 125 [ 1.25 % ] 141 [ 1.41 % ]\n",
      "Var187 has # outliers on train, test : 56 [ 0.56 % ] 58 [ 0.58 % ]\n",
      "Var188 has # outliers on train, test : 189 [ 1.89 % ] 160 [ 1.6 % ]\n",
      "Var189 has # outliers on train, test : 124 [ 1.24 % ] 137 [ 1.37 % ]\n",
      "Var190 has # outliers on train, test : 40 [ 0.4 % ] 52 [ 0.52 % ]\n",
      "Wall time: 765 ms\n"
     ]
    }
   ],
   "source": [
    "%%time\n",
    "# Check the outliers on train, test\n",
    "for v in num_vars:\n",
    "    # Calculate the boundaries on train [mean-3*sd, mean+3*sd]\n",
    "    mu = np.mean(train[v])\n",
    "    sd = np.std(train[v])\n",
    "    lower = mu - 3*sd\n",
    "    upper = mu + 3*sd\n",
    "    # Check outliers using the boundaries\n",
    "    train_out = (train[v] < lower) | (train[v] > upper)\n",
    "    test_out = (test[v] < lower) | (test[v] > upper)\n",
    "    if np.sum(train_out) + np.sum(test_out) > 0:\n",
    "        print(v, \"has # outliers on train, test :\",\n",
    "              np.sum(train_out), \"[\", np.round(100*np.mean(train_out), 2), \"% ]\",\n",
    "              np.sum(test_out), \"[\", np.round(100*np.mean(test_out), 2), \"% ]\")"
   ]
  },
  {
   "cell_type": "markdown",
   "metadata": {},
   "source": [
    "#### (d) Encode categorical variables\n",
    "\n",
    "In Python, most of the machine learning libraries will not handle non-numerical values of categorical varibales (e.g. RF). Therefore, we should encoded the categories using integer values.\n",
    "\n",
    "<u>Note:</u>\n",
    "- Here, the encoder is fitted on both train and test. Therefore, in a few special cases, there are unique categories that appear only on train, or test."
   ]
  },
  {
   "cell_type": "code",
   "execution_count": 80,
   "metadata": {},
   "outputs": [],
   "source": [
    "# %%time\n",
    "# # Keep top 10 categories and combine minor categories into \"Others\"\n",
    "# for v in cat_vars:\n",
    "#     # Find the top 10 categories per cat variable\n",
    "#     top10_cat = train[v].value_counts()[:10].index.tolist()\n",
    "#     # Impute on train, test\n",
    "#     train[v][-train[v].isin(top10_cat)] = 'Others'\n",
    "#     test[v][-test[v].isin(top10_cat)] = 'Others'"
   ]
  },
  {
   "cell_type": "code",
   "execution_count": 16,
   "metadata": {},
   "outputs": [
    {
     "name": "stdout",
     "output_type": "stream",
     "text": [
      "Wall time: 532 ms\n"
     ]
    }
   ],
   "source": [
    "%%time\n",
    "# Encode categorical variables as integer values\n",
    "# Note: All the NA values were imputed previously\n",
    "enc = OrdinalEncoder()\n",
    "enc.fit(pd.concat([train[cat_vars], test[cat_vars]], axis=0))\n",
    "# Apply on train, test\n",
    "train[cat_vars] = enc.transform(train[cat_vars])\n",
    "test[cat_vars] = enc.transform(test[cat_vars])"
   ]
  },
  {
   "cell_type": "markdown",
   "metadata": {},
   "source": [
    "#### (e) Finalize the processed data\n",
    "\n",
    "Current lists of variables:\n",
    "- id_var : customer ID\n",
    "- num_vars : numerical variables\n",
    "- cat_vars : categorical variables\n",
    "- na_vars : indicators for tracking missing values, bool [False, True]\n",
    "- target_var : target variable, churn [0, 1]\n",
    "\n",
    "<u>Note:</u> If there are any variables exist in only train or test, drop them from all the data."
   ]
  },
  {
   "cell_type": "code",
   "execution_count": 17,
   "metadata": {},
   "outputs": [
    {
     "name": "stdout",
     "output_type": "stream",
     "text": [
      "Wall time: 4.41 s\n"
     ]
    }
   ],
   "source": [
    "%%time\n",
    "# Convert bool variable to int\n",
    "train[na_vars] = train[na_vars].astype(np.int8)\n",
    "test[na_vars] = test[na_vars].astype(np.int8)"
   ]
  },
  {
   "cell_type": "code",
   "execution_count": 18,
   "metadata": {},
   "outputs": [
    {
     "name": "stdout",
     "output_type": "stream",
     "text": [
      "# id_var [ 1 ] : ['cust_id']\n",
      "# num_vars [ 174 ] : ['Var1', 'Var2', 'Var3', 'Var4', 'Var5'] ...\n",
      "# cat_vars [ 38 ] : ['Var191', 'Var192', 'Var193', 'Var194', 'Var195'] ...\n",
      "# na_vars [ 171 ] : ['Var1_na', 'Var2_na', 'Var3_na', 'Var4_na', 'Var5_na'] ...\n",
      "# target_var [ 1 ] : ['churn']\n",
      "Wall time: 1.03 ms\n"
     ]
    }
   ],
   "source": [
    "%%time\n",
    "# Print out the final variables\n",
    "print(\"# id_var [\", len(id_var), \"] :\", id_var)\n",
    "print(\"# num_vars [\", len(num_vars), \"] :\", num_vars[:5], \"...\")\n",
    "print(\"# cat_vars [\", len(cat_vars), \"] :\", cat_vars[:5], \"...\")\n",
    "print(\"# na_vars [\", len(na_vars), \"] :\", na_vars[:5], \"...\")\n",
    "print(\"# target_var [\", len(target_var), \"] :\", target_var)"
   ]
  },
  {
   "cell_type": "code",
   "execution_count": 19,
   "metadata": {},
   "outputs": [
    {
     "name": "stdout",
     "output_type": "stream",
     "text": [
      "(10000, 385)\n",
      "(10000, 384)\n",
      "Wall time: 53 ms\n"
     ]
    }
   ],
   "source": [
    "%%time\n",
    "# Sort the data according to the variables list\n",
    "train = train[id_var + num_vars + cat_vars + na_vars + target_var]\n",
    "test = test[id_var + num_vars + cat_vars + na_vars]\n",
    "print(train.shape)\n",
    "print(test.shape)"
   ]
  },
  {
   "cell_type": "markdown",
   "metadata": {},
   "source": [
    "### 2.2. Feature engineering\n",
    "\n",
    "Since every variables are anonymized, we cannot create new variables based the meaning of current variables.\n",
    "\n",
    "In other case, we can use the following hints:\n",
    "- Quickly check the potentially important variables.\n",
    "- Focus on the most important variables to create new variables.\n",
    "- Create a cross variable framework (e.g. customer activities, date-time, events, etc.) for searching the new variables."
   ]
  },
  {
   "cell_type": "markdown",
   "metadata": {},
   "source": [
    "#### (a) Quickly detect most (potentially) important varriables - Correlation test for numerical variables"
   ]
  },
  {
   "cell_type": "code",
   "execution_count": 20,
   "metadata": {},
   "outputs": [
    {
     "name": "stdout",
     "output_type": "stream",
     "text": [
      "Top 5 vars [+] correlated with target var :\n",
      "Var113    0.054660\n",
      "Var131    0.033685\n",
      "Var126    0.030609\n",
      "Var173    0.029983\n",
      "Var81     0.028262\n",
      "Name: churn, dtype: float64\n",
      "Top 5 vars [-] correlated with target var :\n",
      "Var189   -0.087654\n",
      "Var73    -0.073407\n",
      "Var7     -0.059302\n",
      "Var65    -0.047361\n",
      "Var13    -0.039086\n",
      "Name: churn, dtype: float64\n",
      "Wall time: 1.04 s\n"
     ]
    }
   ],
   "source": [
    "%%time\n",
    "# Pearson's correlation for numerical variables\n",
    "corr = train[num_vars + target_var].corr(method='pearson')\n",
    "corr = corr['churn'][:-1].dropna()\n",
    "print(\"Top 5 vars [+] correlated with target var :\"); print(corr.sort_values(ascending=False)[:5])\n",
    "print(\"Top 5 vars [-] correlated with target var :\"); print(corr.sort_values(ascending=True)[:5])"
   ]
  },
  {
   "cell_type": "markdown",
   "metadata": {},
   "source": [
    "#### (b) Quickly detect most (potentially) important varriables - Mutual information\n",
    "\n",
    "<u>Reference:</u>\n",
    "- Mutual information. Link: https://en.wikipedia.org/wiki/Mutual_information\n",
    "- sklearn.feature_selection.mutual_info_classif. Link: https://scikit-learn.org/stable/modules/generated/sklearn.feature_selection.mutual_info_classif.html"
   ]
  },
  {
   "cell_type": "code",
   "execution_count": 21,
   "metadata": {},
   "outputs": [
    {
     "name": "stdout",
     "output_type": "stream",
     "text": [
      "Top 10 vars :\n",
      "Var217    0.009080\n",
      "Var212    0.007863\n",
      "Var218    0.005646\n",
      "Var200    0.005069\n",
      "Var192    0.004683\n",
      "Var193    0.004396\n",
      "Var216    0.003988\n",
      "Var204    0.003896\n",
      "Var224    0.003443\n",
      "Var206    0.003382\n",
      "dtype: float64\n",
      "Wall time: 4.21 s\n"
     ]
    }
   ],
   "source": [
    "%%time\n",
    "# Check mutual information for all variables\n",
    "# Note: The calculation involves a random process, therefore, the result may change if there is no\n",
    "# variable with significant information.\n",
    "mutual_info = mutual_info_classif(train[cat_vars], train[target_var].values.squeeze())\n",
    "mutual_info = pd.Series(mutual_info, index=cat_vars)\n",
    "print(\"Top 10 vars :\"); print(mutual_info.sort_values(ascending=False)[:10])"
   ]
  },
  {
   "cell_type": "markdown",
   "metadata": {},
   "source": [
    "#### (c) Add polynomial terms for numerical variables\n",
    "\n",
    "<u>Note:</u> We only add the polynomial terms (degree=3) for a num variable if it increases the LR model performance."
   ]
  },
  {
   "cell_type": "code",
   "execution_count": 22,
   "metadata": {
    "scrolled": true
   },
   "outputs": [
    {
     "name": "stdout",
     "output_type": "stream",
     "text": [
      "Wall time: 0 ns\n"
     ]
    }
   ],
   "source": [
    "%%time\n",
    "if enable_num_poly:\n",
    "    for v in num_vars:\n",
    "        # Setup the LR model\n",
    "        cv = KFold(n_splits=5, random_state=1, shuffle=True)\n",
    "        model = LogisticRegression(max_iter=200)\n",
    "        parameters = {}\n",
    "        clf = GridSearchCV(model, parameters, scoring=\"roc_auc\", n_jobs=-1, cv=cv, verbose=0)\n",
    "        \n",
    "        # Fit the LR model for 1 numerical variable\n",
    "        clf.fit(train[[v]], train[target_var].squeeze())\n",
    "        clf_num_score = clf.best_score_\n",
    "        \n",
    "        # Fit the LR model for 1 numerical variable + it polynomial degree = 3\n",
    "        poly = PolynomialFeatures(degree=3, include_bias=False)\n",
    "        poly.fit(train[[v]])\n",
    "        clf.fit(poly.transform(train[[v]]), train[target_var].squeeze())\n",
    "        clf_poly_score = clf.best_score_\n",
    "        \n",
    "        # Add the polynomial terms to train, test\n",
    "        if (clf_poly_score > 0.5) & (clf_poly_score - clf_num_score > 0.05):\n",
    "            print('Variable', v, 'AUC vs. AUC poly:', clf_num_score, '-->', clf_poly_score)\n",
    "            poly_vars = [v_poly.replace('x0', v) for v_poly in poly.get_feature_names()[1:]]\n",
    "            num_vars = num_vars + poly_vars\n",
    "            train[poly_vars] = pd.DataFrame(poly.transform(train[[v]])[:, 1:], columns=poly_vars)\n",
    "            test[poly_vars] = pd.DataFrame(poly.transform(test[[v]])[:, 1:], columns=poly_vars)"
   ]
  },
  {
   "cell_type": "markdown",
   "metadata": {},
   "source": [
    "### 2.3. Value transformation (num, cat => cat)\n",
    "\n",
    "- Categorical variable: remapping\n",
    "- Continuous variable: discretization\n",
    "\n",
    "<u>Note:</u> Some techniques that incoporate the information from target variable may cause overfitting problem.\n",
    "\n",
    "<u>Reference:</u>\n",
    "\n",
    "- Coussement, K., Lessmann, S., & Verstraeten, G. (2017). A comparative analysis of data preparation algorithms for customer churn prediction: A case study in the telecommunication industry. Decision Support Systems, 95, 27-36."
   ]
  },
  {
   "cell_type": "code",
   "execution_count": 23,
   "metadata": {},
   "outputs": [
    {
     "name": "stdout",
     "output_type": "stream",
     "text": [
      "Wall time: 0 ns\n"
     ]
    }
   ],
   "source": [
    "%%time\n",
    "# List of variables to track the value transformation process\n",
    "trans_vars = []"
   ]
  },
  {
   "cell_type": "markdown",
   "metadata": {},
   "source": [
    "#### 2.3.1. Remapping categorical variables - Decision tree–based remapping"
   ]
  },
  {
   "cell_type": "markdown",
   "metadata": {},
   "source": [
    "#### (a) Test the variable remmaping on a categorical variable"
   ]
  },
  {
   "cell_type": "code",
   "execution_count": 24,
   "metadata": {},
   "outputs": [
    {
     "name": "stdout",
     "output_type": "stream",
     "text": [
      "Best AUC: 0.5272502800324675\n",
      "Best params: {'min_samples_leaf': 100}\n",
      "Number of leaves: 4\n",
      "Wall time: 6.21 s\n"
     ]
    }
   ],
   "source": [
    "%%time\n",
    "# Select a variable\n",
    "v = \"Var217\"\n",
    "\n",
    "# Find the best decision tree\n",
    "cv = KFold(n_splits=5, random_state=1, shuffle=True)\n",
    "model = DecisionTreeClassifier()\n",
    "parameters = {'min_samples_leaf':(train.shape[0]*np.array([0.01, 0.025, 0.05, 0.1, 0.25, 0.5])).astype(int)}\n",
    "clf = GridSearchCV(model, parameters, scoring=\"roc_auc\", n_jobs=-1, cv=cv, verbose=0)\n",
    "clf.fit(train[[v]], train[target_var])\n",
    "print(\"Best AUC:\", clf.best_score_)\n",
    "print(\"Best params:\", clf.best_params_)\n",
    "print(\"Number of leaves:\", clf.best_estimator_.get_n_leaves())"
   ]
  },
  {
   "cell_type": "code",
   "execution_count": 25,
   "metadata": {},
   "outputs": [
    {
     "name": "stdout",
     "output_type": "stream",
     "text": [
      "# original categories: 11\n",
      "# new remapped categories: 4 {2, 3, 5, 6}\n",
      "Wall time: 65 ms\n"
     ]
    }
   ],
   "source": [
    "%%time\n",
    "# Grouping the categories into new categories (leaves) using Decision Tree\n",
    "# Here, we use the decision path, the last node is the new segment of an observation\n",
    "remap_v = [np.nonzero(r)[0].max() for r in clf.best_estimator_.decision_path(train[[v]]).toarray()]\n",
    "\n",
    "print(\"# original categories:\", train[[v]].nunique().values[0])\n",
    "print(\"# new remapped categories:\", len(set(remap_v)), set(remap_v))"
   ]
  },
  {
   "cell_type": "markdown",
   "metadata": {},
   "source": [
    "#### (b) Apply the variable remmaping for all categorical variables\n",
    "\n",
    "<u>Note:</u> Only remap the variables if AUC > 0.5 and the number of new categories > 1."
   ]
  },
  {
   "cell_type": "code",
   "execution_count": 26,
   "metadata": {
    "scrolled": true
   },
   "outputs": [
    {
     "name": "stdout",
     "output_type": "stream",
     "text": [
      "Wall time: 0 ns\n"
     ]
    }
   ],
   "source": [
    "%%time\n",
    "if enable_trans_cat_dt:\n",
    "    for v in cat_vars:\n",
    "        # Find the best decision tree using CV\n",
    "        cv = KFold(n_splits=5, random_state=1, shuffle=True)\n",
    "        model = DecisionTreeClassifier()\n",
    "        parameters = {'min_samples_leaf':(train.shape[0]*np.array([0.01, 0.025, 0.05, 0.1, 0.25, 0.5])).astype(int)}\n",
    "        clf = GridSearchCV(model, parameters, scoring=\"roc_auc\", n_jobs=-1, cv=cv, verbose=0)\n",
    "        clf.fit(train[[v]], train[target_var])\n",
    "        # Remap the variable on train, test\n",
    "        if (clf.best_score_ > 0.5) & (clf.best_estimator_.get_n_leaves() > 1):\n",
    "            print(\"Remapping variable\", v,\n",
    "                  \"from\", train[[v]].nunique().values[0],\n",
    "                  \"to\", clf.best_estimator_.get_n_leaves(), \"categories\")\n",
    "            remap_var = v + '_remap'\n",
    "            trans_vars.append(remap_var)\n",
    "            train[remap_var] = [np.nonzero(r)[0].max() for r in clf.best_estimator_.decision_path(train[[v]]).toarray()]\n",
    "            test[remap_var] = [np.nonzero(r)[0].max() for r in clf.best_estimator_.decision_path(test[[v]]).toarray()]"
   ]
  },
  {
   "cell_type": "markdown",
   "metadata": {},
   "source": [
    "#### 2.3.2. Discretizing (or binning) numerical variables - Decision tree–based discretization"
   ]
  },
  {
   "cell_type": "markdown",
   "metadata": {},
   "source": [
    "#### (a) Test the variable discretizing on a numerical variable"
   ]
  },
  {
   "cell_type": "code",
   "execution_count": 27,
   "metadata": {},
   "outputs": [
    {
     "name": "stdout",
     "output_type": "stream",
     "text": [
      "Best AUC: 0.5589419285653838\n",
      "Best params: {'min_samples_leaf': 1000}\n",
      "Number of leaves: 7\n",
      "Wall time: 168 ms\n"
     ]
    }
   ],
   "source": [
    "%%time\n",
    "# Select a variable\n",
    "v = \"Var6\"\n",
    "\n",
    "# Find the best decision tree\n",
    "cv = KFold(n_splits=5, random_state=1, shuffle=True)\n",
    "model = DecisionTreeClassifier()\n",
    "parameters = {'min_samples_leaf':(train.shape[0]*np.array([0.01, 0.025, 0.05, 0.1, 0.25, 0.5])).astype(int)}\n",
    "clf = GridSearchCV(model, parameters, scoring=\"roc_auc\", n_jobs=-1, cv=cv, verbose=0)\n",
    "clf.fit(train[[v]], train[target_var])\n",
    "print(\"Best AUC:\", clf.best_score_)\n",
    "print(\"Best params:\", clf.best_params_)\n",
    "print(\"Number of leaves:\", clf.best_estimator_.get_n_leaves())"
   ]
  },
  {
   "cell_type": "code",
   "execution_count": 28,
   "metadata": {},
   "outputs": [
    {
     "name": "stdout",
     "output_type": "stream",
     "text": [
      "# original data range:  [0.0, 114079.0]\n",
      "# new remapped categories: 7 {3, 4, 6, 8, 9, 11, 12}\n",
      "Wall time: 67 ms\n"
     ]
    }
   ],
   "source": [
    "%%time\n",
    "# Grouping the categories into new categories (leaves) using Decision Tree\n",
    "# Here, we use the decision path, the last node is the new segment of an observation\n",
    "remap_v = [np.nonzero(r)[0].max() for r in clf.best_estimator_.decision_path(train[[v]]).toarray()]\n",
    "\n",
    "print(\"# original data range: \", [train[[v]].min().values[0], train[[v]].max().values[0]])\n",
    "print(\"# new remapped categories:\", len(set(remap_v)), set(remap_v))"
   ]
  },
  {
   "cell_type": "markdown",
   "metadata": {},
   "source": [
    "#### (b) Apply the variable discretizing for all numerical variables\n",
    "\n",
    "<u>Note:</u> Only bin/discretize the variables if the number of new categories > 1."
   ]
  },
  {
   "cell_type": "code",
   "execution_count": 29,
   "metadata": {
    "scrolled": true
   },
   "outputs": [
    {
     "name": "stdout",
     "output_type": "stream",
     "text": [
      "Wall time: 0 ns\n"
     ]
    }
   ],
   "source": [
    "%%time\n",
    "if enable_trans_num_dt:\n",
    "    for v in num_vars:\n",
    "        # Find the best decision tree using CV\n",
    "        cv = KFold(n_splits=5, random_state=1, shuffle=True)\n",
    "        model = DecisionTreeClassifier()\n",
    "        parameters = {'min_samples_leaf':(train.shape[0]*np.array([0.01, 0.025, 0.05, 0.1, 0.25, 0.5])).astype(int)}\n",
    "        clf = GridSearchCV(model, parameters, scoring=\"roc_auc\", n_jobs=-1, cv=cv, verbose=0)\n",
    "        clf.fit(train[[v]], train[target_var])\n",
    "        # Remap the variable on train, test\n",
    "        if (clf.best_score_ > 0.5) & (clf.best_estimator_.get_n_leaves() > 1):\n",
    "            print(\"Discretize variable\", v,\n",
    "                  \"from\", [train[[v]].min().values[0], train[[v]].max().values[0]],\n",
    "                  \"to\", clf.best_estimator_.get_n_leaves(), \"categories\")\n",
    "            remap_var = v + '_bin'\n",
    "            trans_vars.append(remap_var)\n",
    "            train[remap_var] = [np.nonzero(r)[0].max() for r in clf.best_estimator_.decision_path(train[[v]]).toarray()]\n",
    "            test[remap_var] = [np.nonzero(r)[0].max() for r in clf.best_estimator_.decision_path(test[[v]]).toarray()]"
   ]
  },
  {
   "cell_type": "markdown",
   "metadata": {},
   "source": [
    "#### 2.3.3. Discretizing (or binning) numerical variables - Equal frequency discretization\n",
    "\n",
    "<u>Note:</u>  \n",
    "- According to Coussement, Lessmann, & Verstraeten (2017), the number of bins at 10 is optimal. However, we can also test with different values in the range [5, 10]."
   ]
  },
  {
   "cell_type": "markdown",
   "metadata": {},
   "source": [
    "#### (a) Test the variable discretizing on a numerical variable"
   ]
  },
  {
   "cell_type": "code",
   "execution_count": 30,
   "metadata": {},
   "outputs": [
    {
     "name": "stdout",
     "output_type": "stream",
     "text": [
      "Number of bins : 9\n",
      "Wall time: 6 ms\n"
     ]
    },
    {
     "name": "stderr",
     "output_type": "stream",
     "text": [
      "C:\\tools\\Anaconda3\\lib\\site-packages\\sklearn\\preprocessing\\_discretization.py:200: UserWarning: Bins whose width are too small (i.e., <= 1e-8) in feature 0 are removed. Consider decreasing the number of bins.\n",
      "  warnings.warn('Bins whose width are too small (i.e., <= '\n"
     ]
    },
    {
     "data": {
      "text/plain": [
       "array([array([0.0000000e+00, 1.3056000e+03, 6.3534600e+04, 5.4795360e+05,\n",
       "       2.0273880e+06, 2.5428557e+06, 3.5213070e+06, 4.8254844e+06,\n",
       "       6.7276680e+06, 1.7127060e+07])], dtype=object)"
      ]
     },
     "execution_count": 30,
     "metadata": {},
     "output_type": "execute_result"
    }
   ],
   "source": [
    "%%time\n",
    "# Select a variable\n",
    "v = \"Var38\"\n",
    "\n",
    "# Binning values of a variable into new groups using equal frequency approach\n",
    "est = KBinsDiscretizer(n_bins=10, encode='ordinal', strategy='quantile')\n",
    "est.fit(train[[v]])\n",
    "print(\"Number of bins :\", est.n_bins_[0])\n",
    "est.bin_edges_"
   ]
  },
  {
   "cell_type": "code",
   "execution_count": 31,
   "metadata": {},
   "outputs": [
    {
     "name": "stdout",
     "output_type": "stream",
     "text": [
      "Wall time: 8.02 ms\n"
     ]
    },
    {
     "data": {
      "text/plain": [
       "0.0    2000\n",
       "1.0    1000\n",
       "2.0    1000\n",
       "3.0    1000\n",
       "4.0     326\n",
       "5.0    1674\n",
       "6.0    1000\n",
       "7.0    1000\n",
       "8.0    1000\n",
       "dtype: int64"
      ]
     },
     "execution_count": 31,
     "metadata": {},
     "output_type": "execute_result"
    }
   ],
   "source": [
    "%%time\n",
    "# Apply the binning to a variable\n",
    "binef_v = est.transform(train[[v]])\n",
    "pd.DataFrame(binef_v).value_counts().sort_index()"
   ]
  },
  {
   "cell_type": "markdown",
   "metadata": {},
   "source": [
    "#### (b) Apply the variable discretizing for all numerical variables"
   ]
  },
  {
   "cell_type": "code",
   "execution_count": 32,
   "metadata": {},
   "outputs": [
    {
     "name": "stdout",
     "output_type": "stream",
     "text": [
      "Wall time: 0 ns\n"
     ]
    }
   ],
   "source": [
    "%%time\n",
    "if enable_trans_num_ef:\n",
    "    for v in num_vars:\n",
    "        # Binning values of a variable\n",
    "        est = KBinsDiscretizer(n_bins=10, encode='ordinal', strategy='quantile')\n",
    "        est.fit(train[[v]])\n",
    "        # Bin the variable on train, test\n",
    "        if est.n_bins_[0] > 1:\n",
    "            binef_var = v + '_binef'\n",
    "            trans_vars.append(binef_var)\n",
    "            train[binef_var] = est.transform(train[[v]])\n",
    "            test[binef_var] = est.transform(test[[v]])"
   ]
  },
  {
   "cell_type": "markdown",
   "metadata": {},
   "source": [
    "#### 2.3.4. Discretizing (or binning) numerical variables - Equal width discretization"
   ]
  },
  {
   "cell_type": "markdown",
   "metadata": {},
   "source": [
    "#### (a) Test the variable discretizing on a numerical variable."
   ]
  },
  {
   "cell_type": "code",
   "execution_count": 33,
   "metadata": {},
   "outputs": [
    {
     "name": "stdout",
     "output_type": "stream",
     "text": [
      "Number of bins : 10\n",
      "Wall time: 3.97 ms\n"
     ]
    },
    {
     "data": {
      "text/plain": [
       "array([array([       0.,  1712706.,  3425412.,  5138118.,  6850824.,  8563530.,\n",
       "       10276236., 11988942., 13701648., 15414354., 17127060.])],\n",
       "      dtype=object)"
      ]
     },
     "execution_count": 33,
     "metadata": {},
     "output_type": "execute_result"
    }
   ],
   "source": [
    "%%time\n",
    "# Select a variable\n",
    "v = \"Var38\"\n",
    "\n",
    "# Binning values of a variable into new groups using equal width approach\n",
    "est = KBinsDiscretizer(n_bins=10, encode='ordinal', strategy='uniform')\n",
    "est.fit(train[[v]])\n",
    "print(\"Number of bins :\", est.n_bins_[0])\n",
    "est.bin_edges_"
   ]
  },
  {
   "cell_type": "code",
   "execution_count": 34,
   "metadata": {},
   "outputs": [
    {
     "name": "stdout",
     "output_type": "stream",
     "text": [
      "Wall time: 6.98 ms\n"
     ]
    },
    {
     "data": {
      "text/plain": [
       "0.0    4811\n",
       "1.0    2127\n",
       "2.0    1253\n",
       "3.0     870\n",
       "4.0     479\n",
       "5.0     280\n",
       "6.0     156\n",
       "7.0      13\n",
       "8.0       7\n",
       "9.0       4\n",
       "dtype: int64"
      ]
     },
     "execution_count": 34,
     "metadata": {},
     "output_type": "execute_result"
    }
   ],
   "source": [
    "%%time\n",
    "# Apply the binning to a variable\n",
    "binew_v = est.transform(train[[v]])\n",
    "pd.DataFrame(binew_v).value_counts().sort_index()"
   ]
  },
  {
   "cell_type": "markdown",
   "metadata": {},
   "source": [
    "#### (b) Apply the variable discretizing for all numerical variables"
   ]
  },
  {
   "cell_type": "code",
   "execution_count": 35,
   "metadata": {},
   "outputs": [
    {
     "name": "stdout",
     "output_type": "stream",
     "text": [
      "Wall time: 0 ns\n"
     ]
    }
   ],
   "source": [
    "%%time\n",
    "if enable_trans_num_ew:\n",
    "    for v in num_vars:\n",
    "        # Binning values of a variable\n",
    "        est = KBinsDiscretizer(n_bins=10, encode='ordinal', strategy='uniform')\n",
    "        est.fit(train[[v]])\n",
    "        # Bin the variable on train, test\n",
    "        if est.n_bins_[0] > 1:\n",
    "            binew_var = v + '_binew'\n",
    "            trans_vars.append(binew_var)\n",
    "            train[binew_var] = est.transform(train[[v]])\n",
    "            test[binew_var] = est.transform(test[[v]])"
   ]
  },
  {
   "cell_type": "markdown",
   "metadata": {},
   "source": [
    "#### 2.3.5. Finalize value transformation\n",
    "\n",
    "- Finalize the variables list\n",
    "- Arrange the data columns\n",
    "\n",
    "<u>Note:</u> After the end of the value transformation step, we have these final lists of variables to manage:\n",
    "- num_vars\n",
    "- na_vars\n",
    "- cat_vars = cat_vars + trans_vars"
   ]
  },
  {
   "cell_type": "code",
   "execution_count": 36,
   "metadata": {},
   "outputs": [
    {
     "name": "stdout",
     "output_type": "stream",
     "text": [
      "Transformed num, cat variables into # new categorical variables : 0\n",
      "Wall time: 1 ms\n"
     ]
    }
   ],
   "source": [
    "%%time\n",
    "# Finalize the variable list\n",
    "cat_vars = cat_vars + trans_vars\n",
    "print(\"Transformed num, cat variables into # new categorical variables :\", len(trans_vars))"
   ]
  },
  {
   "cell_type": "code",
   "execution_count": 37,
   "metadata": {},
   "outputs": [
    {
     "name": "stdout",
     "output_type": "stream",
     "text": [
      "(10000, 385)\n",
      "(10000, 384)\n",
      "Wall time: 28 ms\n"
     ]
    }
   ],
   "source": [
    "%%time\n",
    "# Arrange the data columns\n",
    "train = train[id_var + num_vars + cat_vars + na_vars + target_var]\n",
    "test = test[id_var + num_vars + cat_vars + na_vars]\n",
    "print(train.shape)\n",
    "print(test.shape)"
   ]
  },
  {
   "cell_type": "markdown",
   "metadata": {},
   "source": [
    "### 2.4. Value representation (cat => num)\n",
    "\n",
    "- Categorical variable: Dummy coding\n",
    "- Categorical variable: Incidence replacement\n",
    "- Categorical variable: Weight of Evidence (WoE) conversion\n",
    "\n",
    "<u>Reference:</u>  \n",
    "\n",
    "- Coussement, K., Lessmann, S., & Verstraeten, G. (2017). A comparative analysis of data preparation algorithms for customer churn prediction: A case study in the telecommunication industry. Decision Support Systems, 95, 27-36."
   ]
  },
  {
   "cell_type": "code",
   "execution_count": 38,
   "metadata": {},
   "outputs": [
    {
     "name": "stdout",
     "output_type": "stream",
     "text": [
      "Wall time: 0 ns\n"
     ]
    }
   ],
   "source": [
    "%%time\n",
    "# List of variables to track the value representation process\n",
    "repr_vars = []\n",
    "dummy_vars = []"
   ]
  },
  {
   "cell_type": "markdown",
   "metadata": {},
   "source": [
    "#### 2.4.1. Dummy coding\n",
    "\n",
    "<u>Note:</u> Here, we can fit the encoder on both train and test to make sure it captures all unique categories."
   ]
  },
  {
   "cell_type": "markdown",
   "metadata": {},
   "source": [
    "#### (a) Test the value representation on a categorical variable"
   ]
  },
  {
   "cell_type": "code",
   "execution_count": 39,
   "metadata": {},
   "outputs": [
    {
     "name": "stdout",
     "output_type": "stream",
     "text": [
      "Wall time: 3 ms\n"
     ]
    },
    {
     "data": {
      "text/plain": [
       "[array([0., 1., 2., 3.])]"
      ]
     },
     "execution_count": 39,
     "metadata": {},
     "output_type": "execute_result"
    }
   ],
   "source": [
    "%%time\n",
    "# Select a variable\n",
    "v = \"Var194\"\n",
    "\n",
    "# Build the dummy encoding on [Var194]\n",
    "enc = OneHotEncoder(drop=\"first\", handle_unknown=\"error\")\n",
    "enc.fit(pd.concat([train[[v]], test[[v]]], axis=0))\n",
    "enc.categories_"
   ]
  },
  {
   "cell_type": "code",
   "execution_count": 40,
   "metadata": {},
   "outputs": [
    {
     "name": "stdout",
     "output_type": "stream",
     "text": [
      "Wall time: 6 ms\n"
     ]
    },
    {
     "data": {
      "text/plain": [
       "array([[1., 0., 0.],\n",
       "       [1., 0., 0.],\n",
       "       [1., 0., 0.],\n",
       "       ...,\n",
       "       [0., 1., 0.],\n",
       "       [1., 0., 0.],\n",
       "       [1., 0., 0.]])"
      ]
     },
     "execution_count": 40,
     "metadata": {},
     "output_type": "execute_result"
    }
   ],
   "source": [
    "%%time\n",
    "# Transform a categorical variable\n",
    "dummy_v = enc.transform(train[[v]])\n",
    "dummy_v.toarray()"
   ]
  },
  {
   "cell_type": "markdown",
   "metadata": {},
   "source": [
    "#### (b) Apply the value representation for all categorical variables"
   ]
  },
  {
   "cell_type": "code",
   "execution_count": 41,
   "metadata": {},
   "outputs": [
    {
     "name": "stdout",
     "output_type": "stream",
     "text": [
      "Wall time: 158 ms\n"
     ]
    }
   ],
   "source": [
    "%%time\n",
    "# TODO: More efficient implementation\n",
    "if enable_repr_dummy:\n",
    "    # Create dummy variables, drop the first dummy column\n",
    "    enc = OneHotEncoder(drop=\"first\", handle_unknown=\"error\")\n",
    "    enc.fit(pd.concat([train[cat_vars], test[cat_vars]], axis=0))\n",
    "    dummy_vars = enc.get_feature_names().tolist()\n",
    "    repr_vars = repr_vars + dummy_vars\n",
    "    # Transform train, test\n",
    "    train_dummy = enc.transform(train[cat_vars])\n",
    "    test_dummy = enc.transform(test[cat_vars])"
   ]
  },
  {
   "cell_type": "markdown",
   "metadata": {},
   "source": [
    "#### 2.4.2. Incidence (of target variable) replacement"
   ]
  },
  {
   "cell_type": "markdown",
   "metadata": {},
   "source": [
    "#### (a) Test the value representation on a categorical variable"
   ]
  },
  {
   "cell_type": "code",
   "execution_count": 42,
   "metadata": {},
   "outputs": [
    {
     "name": "stdout",
     "output_type": "stream",
     "text": [
      "Wall time: 8.99 ms\n"
     ]
    },
    {
     "data": {
      "text/html": [
       "<div>\n",
       "<style scoped>\n",
       "    .dataframe tbody tr th:only-of-type {\n",
       "        vertical-align: middle;\n",
       "    }\n",
       "\n",
       "    .dataframe tbody tr th {\n",
       "        vertical-align: top;\n",
       "    }\n",
       "\n",
       "    .dataframe thead th {\n",
       "        text-align: right;\n",
       "    }\n",
       "</style>\n",
       "<table border=\"1\" class=\"dataframe\">\n",
       "  <thead>\n",
       "    <tr style=\"text-align: right;\">\n",
       "      <th></th>\n",
       "      <th>Var194</th>\n",
       "      <th>Var194_icd</th>\n",
       "    </tr>\n",
       "  </thead>\n",
       "  <tbody>\n",
       "    <tr>\n",
       "      <th>0</th>\n",
       "      <td>0.0</td>\n",
       "      <td>0.000000</td>\n",
       "    </tr>\n",
       "    <tr>\n",
       "      <th>1</th>\n",
       "      <td>1.0</td>\n",
       "      <td>0.076882</td>\n",
       "    </tr>\n",
       "    <tr>\n",
       "      <th>2</th>\n",
       "      <td>2.0</td>\n",
       "      <td>0.065063</td>\n",
       "    </tr>\n",
       "    <tr>\n",
       "      <th>3</th>\n",
       "      <td>3.0</td>\n",
       "      <td>0.000000</td>\n",
       "    </tr>\n",
       "  </tbody>\n",
       "</table>\n",
       "</div>"
      ],
      "text/plain": [
       "   Var194  Var194_icd\n",
       "0     0.0    0.000000\n",
       "1     1.0    0.076882\n",
       "2     2.0    0.065063\n",
       "3     3.0    0.000000"
      ]
     },
     "execution_count": 42,
     "metadata": {},
     "output_type": "execute_result"
    }
   ],
   "source": [
    "%%time\n",
    "# Select a variable\n",
    "v = \"Var194\"\n",
    "\n",
    "# Find the incidence rates per category of a categorical variable\n",
    "tb = pd.pivot_table(train, values=target_var, index=v, aggfunc=np.mean).reset_index()\n",
    "tb.columns = [v, v + \"_icd\"]\n",
    "tb"
   ]
  },
  {
   "cell_type": "code",
   "execution_count": 43,
   "metadata": {},
   "outputs": [
    {
     "name": "stdout",
     "output_type": "stream",
     "text": [
      "Wall time: 8 ms\n"
     ]
    },
    {
     "data": {
      "text/html": [
       "<div>\n",
       "<style scoped>\n",
       "    .dataframe tbody tr th:only-of-type {\n",
       "        vertical-align: middle;\n",
       "    }\n",
       "\n",
       "    .dataframe tbody tr th {\n",
       "        vertical-align: top;\n",
       "    }\n",
       "\n",
       "    .dataframe thead th {\n",
       "        text-align: right;\n",
       "    }\n",
       "</style>\n",
       "<table border=\"1\" class=\"dataframe\">\n",
       "  <thead>\n",
       "    <tr style=\"text-align: right;\">\n",
       "      <th></th>\n",
       "      <th>Var194</th>\n",
       "      <th>Var194_icd</th>\n",
       "    </tr>\n",
       "  </thead>\n",
       "  <tbody>\n",
       "    <tr>\n",
       "      <th>0</th>\n",
       "      <td>1.0</td>\n",
       "      <td>0.076882</td>\n",
       "    </tr>\n",
       "    <tr>\n",
       "      <th>1</th>\n",
       "      <td>1.0</td>\n",
       "      <td>0.076882</td>\n",
       "    </tr>\n",
       "    <tr>\n",
       "      <th>2</th>\n",
       "      <td>1.0</td>\n",
       "      <td>0.076882</td>\n",
       "    </tr>\n",
       "    <tr>\n",
       "      <th>3</th>\n",
       "      <td>1.0</td>\n",
       "      <td>0.076882</td>\n",
       "    </tr>\n",
       "    <tr>\n",
       "      <th>4</th>\n",
       "      <td>1.0</td>\n",
       "      <td>0.076882</td>\n",
       "    </tr>\n",
       "  </tbody>\n",
       "</table>\n",
       "</div>"
      ],
      "text/plain": [
       "   Var194  Var194_icd\n",
       "0     1.0    0.076882\n",
       "1     1.0    0.076882\n",
       "2     1.0    0.076882\n",
       "3     1.0    0.076882\n",
       "4     1.0    0.076882"
      ]
     },
     "execution_count": 43,
     "metadata": {},
     "output_type": "execute_result"
    }
   ],
   "source": [
    "%%time\n",
    "# Add/join the incidence variable\n",
    "pd.merge(train[[v]], tb, on=v).head()"
   ]
  },
  {
   "cell_type": "markdown",
   "metadata": {},
   "source": [
    "#### (b) Apply the value representation for all categorical variables"
   ]
  },
  {
   "cell_type": "code",
   "execution_count": 44,
   "metadata": {},
   "outputs": [
    {
     "name": "stdout",
     "output_type": "stream",
     "text": [
      "Wall time: 0 ns\n"
     ]
    }
   ],
   "source": [
    "%%time\n",
    "if enable_repr_icd:\n",
    "    for v in cat_vars:\n",
    "        # Find the incidence rates per category of a categorical variable\n",
    "        tb = pd.pivot_table(train, values=target_var, index=v, aggfunc=np.mean).reset_index()\n",
    "        icd_var = v + \"_icd\"\n",
    "        repr_vars.append(icd_var)\n",
    "        tb.columns = [v, icd_var]\n",
    "        # Add the incidence column to train, test\n",
    "        train[icd_var] = pd.merge(train[[v]], tb, on=v)[icd_var]\n",
    "        test[icd_var] = pd.merge(test[[v]], tb, on=v)[icd_var]"
   ]
  },
  {
   "cell_type": "markdown",
   "metadata": {},
   "source": [
    "#### 2.4.3. Weight-of-Evidence (WoE) conversion\n",
    "\n",
    "<u>Note:</u>\n",
    "- WoE might create +/-Inf value and need to be handled before fitting machine learning model. Here, we correct problem by adding e (small value) to the the numerator and denominator of the WoE equation."
   ]
  },
  {
   "cell_type": "markdown",
   "metadata": {},
   "source": [
    "#### (a) Test the value representation on a categorical variable"
   ]
  },
  {
   "cell_type": "code",
   "execution_count": 45,
   "metadata": {},
   "outputs": [
    {
     "name": "stdout",
     "output_type": "stream",
     "text": [
      "Wall time: 7.01 ms\n"
     ]
    },
    {
     "data": {
      "text/html": [
       "<div>\n",
       "<style scoped>\n",
       "    .dataframe tbody tr th:only-of-type {\n",
       "        vertical-align: middle;\n",
       "    }\n",
       "\n",
       "    .dataframe tbody tr th {\n",
       "        vertical-align: top;\n",
       "    }\n",
       "\n",
       "    .dataframe thead th {\n",
       "        text-align: right;\n",
       "    }\n",
       "</style>\n",
       "<table border=\"1\" class=\"dataframe\">\n",
       "  <thead>\n",
       "    <tr style=\"text-align: right;\">\n",
       "      <th>churn</th>\n",
       "      <th>Var194</th>\n",
       "      <th>0</th>\n",
       "      <th>1</th>\n",
       "      <th>Var194_woe</th>\n",
       "    </tr>\n",
       "  </thead>\n",
       "  <tbody>\n",
       "    <tr>\n",
       "      <th>0</th>\n",
       "      <td>0.0</td>\n",
       "      <td>10</td>\n",
       "      <td>0</td>\n",
       "      <td>-25.328436</td>\n",
       "    </tr>\n",
       "    <tr>\n",
       "      <th>1</th>\n",
       "      <td>1.0</td>\n",
       "      <td>6856</td>\n",
       "      <td>571</td>\n",
       "      <td>-2.485490</td>\n",
       "    </tr>\n",
       "    <tr>\n",
       "      <th>2</th>\n",
       "      <td>2.0</td>\n",
       "      <td>2371</td>\n",
       "      <td>165</td>\n",
       "      <td>-2.665122</td>\n",
       "    </tr>\n",
       "    <tr>\n",
       "      <th>3</th>\n",
       "      <td>3.0</td>\n",
       "      <td>27</td>\n",
       "      <td>0</td>\n",
       "      <td>-26.321688</td>\n",
       "    </tr>\n",
       "  </tbody>\n",
       "</table>\n",
       "</div>"
      ],
      "text/plain": [
       "churn  Var194     0    1  Var194_woe\n",
       "0         0.0    10    0  -25.328436\n",
       "1         1.0  6856  571   -2.485490\n",
       "2         2.0  2371  165   -2.665122\n",
       "3         3.0    27    0  -26.321688"
      ]
     },
     "execution_count": 45,
     "metadata": {},
     "output_type": "execute_result"
    }
   ],
   "source": [
    "%%time\n",
    "# Select a variable\n",
    "v = \"Var194\"\n",
    "\n",
    "# Find the incidence rates per category of a categorical variable\n",
    "# Add +1 before calculating the log to avoid +/-Inf\n",
    "tb = train[[v] + target_var].value_counts().unstack(fill_value=0).reset_index()\n",
    "e = 1e-10  # Small value\n",
    "tb[v + \"_woe\"] = np.log((tb[1] + e) / (tb[0] + e))\n",
    "tb"
   ]
  },
  {
   "cell_type": "code",
   "execution_count": 46,
   "metadata": {},
   "outputs": [
    {
     "name": "stdout",
     "output_type": "stream",
     "text": [
      "Wall time: 8 ms\n"
     ]
    },
    {
     "data": {
      "text/html": [
       "<div>\n",
       "<style scoped>\n",
       "    .dataframe tbody tr th:only-of-type {\n",
       "        vertical-align: middle;\n",
       "    }\n",
       "\n",
       "    .dataframe tbody tr th {\n",
       "        vertical-align: top;\n",
       "    }\n",
       "\n",
       "    .dataframe thead th {\n",
       "        text-align: right;\n",
       "    }\n",
       "</style>\n",
       "<table border=\"1\" class=\"dataframe\">\n",
       "  <thead>\n",
       "    <tr style=\"text-align: right;\">\n",
       "      <th></th>\n",
       "      <th>Var194</th>\n",
       "      <th>Var194_woe</th>\n",
       "    </tr>\n",
       "  </thead>\n",
       "  <tbody>\n",
       "    <tr>\n",
       "      <th>0</th>\n",
       "      <td>1.0</td>\n",
       "      <td>-2.48549</td>\n",
       "    </tr>\n",
       "    <tr>\n",
       "      <th>1</th>\n",
       "      <td>1.0</td>\n",
       "      <td>-2.48549</td>\n",
       "    </tr>\n",
       "    <tr>\n",
       "      <th>2</th>\n",
       "      <td>1.0</td>\n",
       "      <td>-2.48549</td>\n",
       "    </tr>\n",
       "    <tr>\n",
       "      <th>3</th>\n",
       "      <td>1.0</td>\n",
       "      <td>-2.48549</td>\n",
       "    </tr>\n",
       "    <tr>\n",
       "      <th>4</th>\n",
       "      <td>1.0</td>\n",
       "      <td>-2.48549</td>\n",
       "    </tr>\n",
       "  </tbody>\n",
       "</table>\n",
       "</div>"
      ],
      "text/plain": [
       "   Var194  Var194_woe\n",
       "0     1.0    -2.48549\n",
       "1     1.0    -2.48549\n",
       "2     1.0    -2.48549\n",
       "3     1.0    -2.48549\n",
       "4     1.0    -2.48549"
      ]
     },
     "execution_count": 46,
     "metadata": {},
     "output_type": "execute_result"
    }
   ],
   "source": [
    "%%time\n",
    "# Add/join the WoE variable\n",
    "pd.merge(train[[v]], tb[[v, v + \"_woe\"]], on=v).head()"
   ]
  },
  {
   "cell_type": "markdown",
   "metadata": {},
   "source": [
    "#### (b) Apply the value representation for all categorical variables"
   ]
  },
  {
   "cell_type": "code",
   "execution_count": 47,
   "metadata": {},
   "outputs": [
    {
     "name": "stdout",
     "output_type": "stream",
     "text": [
      "Wall time: 0 ns\n"
     ]
    }
   ],
   "source": [
    "%%time\n",
    "# TODO: More efficient implementation\n",
    "if enable_repr_woe:\n",
    "    for v in cat_vars:\n",
    "        # Find the WoE per category of a categorical variable\n",
    "        tb = train[[v] + target_var].value_counts().unstack(fill_value=0).reset_index()\n",
    "        woe_var = v + \"_woe\"\n",
    "        repr_vars.append(woe_var)\n",
    "        e = 1e-10  # Small value\n",
    "        tb[woe_var] = np.log((tb[1] + e) / (tb[0] + e))\n",
    "        # Add the incidence column to train, test\n",
    "        train[woe_var] = pd.merge(train[[v]], tb[[v, woe_var]], on=v)[woe_var]\n",
    "        test[woe_var] = pd.merge(test[[v]], tb[[v, woe_var]], on=v)[woe_var]"
   ]
  },
  {
   "cell_type": "markdown",
   "metadata": {},
   "source": [
    "#### 2.4.3. Finalize value representation "
   ]
  },
  {
   "cell_type": "markdown",
   "metadata": {},
   "source": [
    "#### (a) Drop categorical variables, add dummy variables\n",
    "\n",
    "At the end of this step, all categorical variables were represented by dummy variables or numerical variables. Therefore, it is no need to keep categorical variables."
   ]
  },
  {
   "cell_type": "code",
   "execution_count": 48,
   "metadata": {},
   "outputs": [
    {
     "name": "stdout",
     "output_type": "stream",
     "text": [
      "Wall time: 22 ms\n"
     ]
    }
   ],
   "source": [
    "%%time\n",
    "# Drop cat vars\n",
    "if drop_cat_vars:\n",
    "    train = train.drop(cat_vars, axis=1)\n",
    "    test = test.drop(cat_vars, axis=1)\n",
    "    cat_vars = []"
   ]
  },
  {
   "cell_type": "code",
   "execution_count": 49,
   "metadata": {},
   "outputs": [
    {
     "name": "stdout",
     "output_type": "stream",
     "text": [
      "Wall time: 95 ms\n"
     ]
    }
   ],
   "source": [
    "%%time\n",
    "# Add dummy variables\n",
    "if enable_repr_dummy:\n",
    "    train = pd.concat([train, pd.DataFrame(train_dummy.toarray(), columns=dummy_vars)], axis=1)\n",
    "    test = pd.concat([test, pd.DataFrame(test_dummy.toarray(), columns=dummy_vars)], axis=1)\n",
    "    del train_dummy, test_dummy"
   ]
  },
  {
   "cell_type": "markdown",
   "metadata": {},
   "source": [
    "#### (b) Impute missing values created by value representation\n",
    "\n",
    "During the value representation process, if the categorical variables have new categories on test, the represented values might be missing on test data. Therefore, it is necessary to correct again here."
   ]
  },
  {
   "cell_type": "code",
   "execution_count": 50,
   "metadata": {},
   "outputs": [
    {
     "name": "stdout",
     "output_type": "stream",
     "text": [
      "Wall time: 221 ms\n"
     ]
    }
   ],
   "source": [
    "%%time\n",
    "# Impute new missing values on test using the mean on train\n",
    "if len(repr_vars) > 0:\n",
    "    imp = SimpleImputer(missing_values=np.nan, strategy='mean', add_indicator=True)\n",
    "    imp.fit(train[repr_vars])\n",
    "    test[repr_vars] = pd.DataFrame(imp.transform(test[repr_vars]), columns=repr_vars)"
   ]
  },
  {
   "cell_type": "markdown",
   "metadata": {},
   "source": [
    "#### (c) Finalize the variables list\n",
    "\n",
    "<u>Note:</u> At the end of the value representation step, we have these final lists of variables to manage:\n",
    "- num_vars = num_vars + repr_vars\n",
    "- na_vars"
   ]
  },
  {
   "cell_type": "code",
   "execution_count": 51,
   "metadata": {},
   "outputs": [
    {
     "name": "stdout",
     "output_type": "stream",
     "text": [
      "Represented cat variables with # new numerical variables : 253\n",
      "Wall time: 0 ns\n"
     ]
    }
   ],
   "source": [
    "%%time\n",
    "# Combine the variable list\n",
    "num_vars = num_vars + repr_vars\n",
    "print(\"Represented cat variables with # new numerical variables :\", len(repr_vars))"
   ]
  },
  {
   "cell_type": "code",
   "execution_count": 52,
   "metadata": {},
   "outputs": [
    {
     "name": "stdout",
     "output_type": "stream",
     "text": [
      "(10000, 600)\n",
      "(10000, 599)\n",
      "Wall time: 38.9 ms\n"
     ]
    }
   ],
   "source": [
    "%%time\n",
    "# Arrange the data columns\n",
    "train = train[id_var + num_vars + cat_vars + na_vars + target_var]\n",
    "test = test[id_var + num_vars + cat_vars + na_vars]\n",
    "print(train.shape)\n",
    "print(test.shape)"
   ]
  },
  {
   "cell_type": "markdown",
   "metadata": {},
   "source": [
    "### 2.5. Other data processing"
   ]
  },
  {
   "cell_type": "markdown",
   "metadata": {},
   "source": [
    "#### (a) Data normalization - Numerical variables\n",
    "\n",
    "<u>Note:</u>\n",
    "- It is not necessary to normalize dummy variables since they are in [0, 1].\n",
    "- With large data set, calling MinMaxScaler().fit() may cause memory issue."
   ]
  },
  {
   "cell_type": "code",
   "execution_count": 53,
   "metadata": {},
   "outputs": [
    {
     "name": "stdout",
     "output_type": "stream",
     "text": [
      "Wall time: 3.26 s\n"
     ]
    }
   ],
   "source": [
    "%%time\n",
    "# TODO: More efficient implementation\n",
    "if enable_normalize:\n",
    "    for v in num_vars:\n",
    "        # Build the normalizer on train\n",
    "        scaler = MinMaxScaler().fit(train[[v]])\n",
    "        # Apply on train, test\n",
    "        train[v] = scaler.transform(train[[v]])\n",
    "        test[v] = scaler.transform(test[[v]])"
   ]
  },
  {
   "cell_type": "markdown",
   "metadata": {},
   "source": [
    "####  (b) Filter out low variance variables (or constant)\n",
    "\n",
    "During the data processing, we may accidentally create some new constant variables. Therefore, it is necessary to filter again."
   ]
  },
  {
   "cell_type": "code",
   "execution_count": 54,
   "metadata": {},
   "outputs": [
    {
     "name": "stdout",
     "output_type": "stream",
     "text": [
      "Wall time: 0 ns\n"
     ]
    }
   ],
   "source": [
    "%%time\n",
    "# List of all predictors\n",
    "predictors = num_vars + cat_vars + na_vars"
   ]
  },
  {
   "cell_type": "code",
   "execution_count": 55,
   "metadata": {},
   "outputs": [
    {
     "name": "stdout",
     "output_type": "stream",
     "text": [
      "Drop # constant vars : 3\n",
      "Wall time: 203 ms\n"
     ]
    }
   ],
   "source": [
    "%%time\n",
    "# Detect constant vars\n",
    "sel = VarianceThreshold(0)  # Var = 0 by default\n",
    "sel.fit(train[predictors])\n",
    "const_vars = [predictors[i] for i in np.where(sel.variances_ == 0)[0]]\n",
    "predictors = [v for v in predictors if v not in const_vars]\n",
    "# Drop from train, test\n",
    "print('Drop # constant vars :', len(const_vars))\n",
    "train = train.drop(const_vars, axis=1)\n",
    "test = test.drop(const_vars, axis=1)"
   ]
  },
  {
   "cell_type": "markdown",
   "metadata": {},
   "source": [
    "#### (c) Drop duplicated variables\n",
    "\n",
    "Sometime, the data processing process can create a lot of duplicated variables. In this case, it is necessary to identify and drop them."
   ]
  },
  {
   "cell_type": "code",
   "execution_count": 56,
   "metadata": {},
   "outputs": [
    {
     "name": "stdout",
     "output_type": "stream",
     "text": [
      "# duplicated vars : 179\n",
      "Wall time: 3.08 s\n"
     ]
    }
   ],
   "source": [
    "%%time\n",
    "# Count the duplicated vars\n",
    "dup_vars = train[predictors].T.duplicated()\n",
    "print('# duplicated vars :', dup_vars.sum())"
   ]
  },
  {
   "cell_type": "code",
   "execution_count": 57,
   "metadata": {},
   "outputs": [
    {
     "name": "stdout",
     "output_type": "stream",
     "text": [
      "Wall time: 37 ms\n"
     ]
    }
   ],
   "source": [
    "%%time\n",
    "# Drop the duplicated vars from train, test\n",
    "predictors = [predictors[i] for i in range(0, len(predictors)) if not dup_vars[i]]\n",
    "train = train[id_var + predictors + target_var]\n",
    "test = test[id_var + predictors]"
   ]
  },
  {
   "cell_type": "markdown",
   "metadata": {},
   "source": [
    "#### (d) Export the processed data to file"
   ]
  },
  {
   "cell_type": "code",
   "execution_count": 58,
   "metadata": {},
   "outputs": [
    {
     "name": "stdout",
     "output_type": "stream",
     "text": [
      "(10000, 418)\n",
      "(10000, 417)\n",
      "Wall time: 445 µs\n"
     ]
    }
   ],
   "source": [
    "%%time\n",
    "# Print out the data to check\n",
    "print(train.shape)\n",
    "print(test.shape)"
   ]
  },
  {
   "cell_type": "code",
   "execution_count": 59,
   "metadata": {},
   "outputs": [
    {
     "name": "stdout",
     "output_type": "stream",
     "text": [
      "Wall time: 294 ms\n"
     ]
    }
   ],
   "source": [
    "%%time\n",
    "# Save to pickle format\n",
    "train.to_pickle(\"./data/processed/final/train_processed\" + fname + \".pkl\")\n",
    "test.to_pickle(\"./data/processed/final/test_processed\" + fname + \".pkl\")"
   ]
  },
  {
   "cell_type": "markdown",
   "metadata": {},
   "source": [
    "### 2.6. Variable selection\n",
    "\n",
    "<u>Reference:</u>  \n",
    "\n",
    "- Verbeke, W., Dejaeger, K., Martens, D., Hur, J., & Baesens, B. (2012). New insights into churn prediction in the telecommunication sector: A profit driven data mining approach. European Journal of Operational Research, 218(1), 211-229."
   ]
  },
  {
   "cell_type": "code",
   "execution_count": 82,
   "metadata": {},
   "outputs": [
    {
     "name": "stdout",
     "output_type": "stream",
     "text": [
      "Wall time: 6.24 s\n"
     ]
    }
   ],
   "source": [
    "%%time\n",
    "# Read back the processed data\n",
    "#fname = '_std_all_v5.1'\n",
    "train = pd.read_pickle(\"./data/processed/final/train_processed\" + fname + \".pkl\")\n",
    "test = pd.read_pickle(\"./data/processed/final/test_processed\" + fname + \".pkl\")"
   ]
  },
  {
   "cell_type": "code",
   "execution_count": 83,
   "metadata": {},
   "outputs": [
    {
     "name": "stdout",
     "output_type": "stream",
     "text": [
      "Wall time: 5.03 ms\n"
     ]
    }
   ],
   "source": [
    "%%time\n",
    "# Create several lists to handle variables\n",
    "id_var = ['cust_id']\n",
    "target_var = ['churn']\n",
    "predictors = [v for v in train.columns if v not in id_var + target_var]"
   ]
  },
  {
   "cell_type": "markdown",
   "metadata": {},
   "source": [
    "####  (a) Variable selection: Fisher Score"
   ]
  },
  {
   "cell_type": "code",
   "execution_count": 84,
   "metadata": {},
   "outputs": [
    {
     "name": "stdout",
     "output_type": "stream",
     "text": [
      "Wall time: 0 ns\n"
     ]
    }
   ],
   "source": [
    "%%time\n",
    "def FisherScore(bt, target_var, predictors):\n",
    "    \"\"\"\n",
    "    This function calculate the Fisher score of a variable.\n",
    "\n",
    "    Ref:\n",
    "    ---\n",
    "    Verbeke, W., Dejaeger, K., Martens, D., Hur, J., & Baesens, B. (2012). New insights\n",
    "    into churn prediction in the telecommunication sector: A profit driven data mining\n",
    "    approach. European Journal of Operational Research, 218(1), 211-229.\n",
    "    \"\"\"\n",
    "    \n",
    "    # Get the unique values of dependent variable\n",
    "    target_var_val = bt[target_var].unique()\n",
    "    # Calculate FisherScore for each predictor\n",
    "    predictor_FisherScore = []\n",
    "    for v in predictors:\n",
    "        fs = np.abs(np.mean(bt.loc[bt[target_var]==target_var_val[0], v]) - np.mean(bt.loc[bt[target_var]==target_var_val[1], v])) / \\\n",
    "             np.sqrt(np.var(bt.loc[bt[target_var]==target_var_val[0], v]) + np.var(bt.loc[bt[target_var]==target_var_val[1], v]))\n",
    "        predictor_FisherScore.append(fs)\n",
    "    return predictor_FisherScore"
   ]
  },
  {
   "cell_type": "code",
   "execution_count": 63,
   "metadata": {},
   "outputs": [
    {
     "name": "stdout",
     "output_type": "stream",
     "text": [
      "Wall time: 998 ms\n"
     ]
    },
    {
     "data": {
      "text/html": [
       "<div>\n",
       "<style scoped>\n",
       "    .dataframe tbody tr th:only-of-type {\n",
       "        vertical-align: middle;\n",
       "    }\n",
       "\n",
       "    .dataframe tbody tr th {\n",
       "        vertical-align: top;\n",
       "    }\n",
       "\n",
       "    .dataframe thead th {\n",
       "        text-align: right;\n",
       "    }\n",
       "</style>\n",
       "<table border=\"1\" class=\"dataframe\">\n",
       "  <thead>\n",
       "    <tr style=\"text-align: right;\">\n",
       "      <th></th>\n",
       "      <th>predictor</th>\n",
       "      <th>fisherscore</th>\n",
       "    </tr>\n",
       "  </thead>\n",
       "  <tbody>\n",
       "    <tr>\n",
       "      <th>413</th>\n",
       "      <td>Var126_na</td>\n",
       "      <td>0.271197</td>\n",
       "    </tr>\n",
       "    <tr>\n",
       "      <th>168</th>\n",
       "      <td>Var189</td>\n",
       "      <td>0.230800</td>\n",
       "    </tr>\n",
       "    <tr>\n",
       "      <th>60</th>\n",
       "      <td>Var73</td>\n",
       "      <td>0.217568</td>\n",
       "    </tr>\n",
       "    <tr>\n",
       "      <th>310</th>\n",
       "      <td>x20_6.0</td>\n",
       "      <td>0.201786</td>\n",
       "    </tr>\n",
       "    <tr>\n",
       "      <th>333</th>\n",
       "      <td>x25_4.0</td>\n",
       "      <td>0.188703</td>\n",
       "    </tr>\n",
       "  </tbody>\n",
       "</table>\n",
       "</div>"
      ],
      "text/plain": [
       "     predictor  fisherscore\n",
       "413  Var126_na     0.271197\n",
       "168     Var189     0.230800\n",
       "60       Var73     0.217568\n",
       "310    x20_6.0     0.201786\n",
       "333    x25_4.0     0.188703"
      ]
     },
     "execution_count": 63,
     "metadata": {},
     "output_type": "execute_result"
    }
   ],
   "source": [
    "%%time\n",
    "# Calculate Fisher Score for all variable\n",
    "fs = FisherScore(train, target_var[0], predictors)\n",
    "fs_df = pd.DataFrame({\"predictor\":predictors, \"fisherscore\":fs})\n",
    "fs_df = fs_df.sort_values('fisherscore', ascending=False)\n",
    "fs_df.head()"
   ]
  },
  {
   "cell_type": "code",
   "execution_count": 64,
   "metadata": {},
   "outputs": [
    {
     "data": {
      "image/png": "[encoded data removed]",
      "text/plain": [
       "<Figure size 432x288 with 1 Axes>"
      ]
     },
     "metadata": {
      "needs_background": "light"
     },
     "output_type": "display_data"
    },
    {
     "name": "stdout",
     "output_type": "stream",
     "text": [
      "Wall time: 314 ms\n"
     ]
    }
   ],
   "source": [
    "%%time\n",
    "# Visualize the Fisher Score\n",
    "plt.plot(fs_df['fisherscore'].values.squeeze())\n",
    "plt.axhline(y=0.01, linestyle='dashed', color='red')\n",
    "plt.axhline(y=0.03, linestyle='dashed', color='green')\n",
    "plt.xticks(rotation=45)\n",
    "plt.xlabel(str(fs_df.shape[0]) + ' predictors')\n",
    "plt.ylabel('Fisher Score')\n",
    "plt.legend(['Fisher Score', '0.01', '0.03'])\n",
    "plt.show()"
   ]
  },
  {
   "cell_type": "code",
   "execution_count": 65,
   "metadata": {
    "scrolled": true
   },
   "outputs": [
    {
     "name": "stdout",
     "output_type": "stream",
     "text": [
      "Added # top vars : 100\n",
      "Added # top vars : 200\n"
     ]
    },
    {
     "data": {
      "image/png": "[encoded data removed]",
      "text/plain": [
       "<Figure size 432x288 with 1 Axes>"
      ]
     },
     "metadata": {
      "needs_background": "light"
     },
     "output_type": "display_data"
    },
    {
     "name": "stdout",
     "output_type": "stream",
     "text": [
      "Wall time: 1min 44s\n"
     ]
    }
   ],
   "source": [
    "%%time\n",
    "# Check how AUC change when add more variables: Top n vars\n",
    "fs_scores = []\n",
    "top_n_vars = 200\n",
    "for i in range(1, top_n_vars+1):\n",
    "    if i % 100 == 0: print('Added # top vars :', i)\n",
    "    top_n_predictors = fs_df['predictor'][:i]\n",
    "    clf = LogisticRegression()\n",
    "    fs_scores.append(cross_validate(clf, train[top_n_predictors], train[target_var].values.squeeze(),\n",
    "                                    scoring='roc_auc', cv=5, verbose=0, n_jobs=-1, return_train_score=True))\n",
    "\n",
    "# How the AUC curve looks like when adding top vars\n",
    "plt.plot([s['train_score'].mean() for s in fs_scores], color='blue')\n",
    "plt.plot([s['test_score'].mean() for s in fs_scores], color='red')\n",
    "plt.xlabel('# vars')\n",
    "plt.ylabel('AUC')\n",
    "plt.legend(['train', 'test'])\n",
    "plt.show()"
   ]
  },
  {
   "cell_type": "code",
   "execution_count": 65,
   "metadata": {
    "scrolled": true
   },
   "outputs": [
    {
     "name": "stdout",
     "output_type": "stream",
     "text": [
      "Selected # vars : 100\n",
      "Wall time: 0 ns\n"
     ]
    },
    {
     "data": {
      "text/plain": [
       "array(['Var126_na', 'Var189', 'Var73', 'x20_6.0', 'x25_4.0', 'x36_2.0',\n",
       "       'x14_3.0', 'x2_4.0', 'Var7', 'x25_5.0', 'x26_2.0', 'x33_1.0',\n",
       "       'x9_6.0', 'x22_4.0', 'Var113', 'x16_10.0', 'x35_2.0', 'x29_4.0',\n",
       "       'x9_4.0', 'Var65', 'Var13', 'x29_6.0', 'x7_6.0', 'x7_3.0',\n",
       "       'x18_5.0', 'x18_3.0', 'x35_3.0', 'x15_9.0', 'Var144', 'x15_10.0',\n",
       "       'x36_8.0', 'x15_5.0', 'x16_3.0', 'x14_2.0', 'Var126', 'x20_7.0',\n",
       "       'x15_1.0', 'x24_3.0', 'Var140', 'x4_1.0', 'x6_3.0', 'x36_9.0',\n",
       "       'x15_4.0', 'x26_1.0', 'x36_6.0', 'x20_8.0', 'x37_2.0', 'x8_3.0',\n",
       "       'x11_1.0', 'Var81', 'x2_2.0', 'x29_3.0', 'x34_4.0', 'x35_1.0',\n",
       "       'Var125', 'Var74', 'x20_2.0', 'Var72', 'x4_10.0', 'Var6',\n",
       "       'x11_4.0', 'Var134', 'Var92_na', 'x12_1.0', 'x20_10.0', 'x36_7.0',\n",
       "       'x24_8.0', 'Var28', 'x8_10.0', 'x31_1.0', 'x3_1.0', 'x10_1.0',\n",
       "       'x29_1.0', 'x10_2.0', 'Var147', 'x34_6.0', 'Var119', 'Var109',\n",
       "       'Var112', 'Var51', 'x34_9.0', 'x34_2.0', 'x24_9.0', 'x13_10.0',\n",
       "       'Var173', 'Var77', 'x37_1.0', 'x20_3.0', 'x3_3.0', 'x16_4.0',\n",
       "       'x34_5.0', 'x2_5.0', 'x19_1.0', 'Var160', 'x3_2.0', 'Var37',\n",
       "       'Var132', 'x11_7.0', 'x16_7.0', 'x7_7.0'], dtype=object)"
      ]
     },
     "execution_count": 65,
     "metadata": {},
     "output_type": "execute_result"
    }
   ],
   "source": [
    "%%time\n",
    "# Select the top variables based on Fisher Score\n",
    "#top_fs_vars = fs_df[fs_df['fisherscore'] >= 0.03]['predictor'].values\n",
    "top_fs_vars = fs_df['predictor'].values[:100]\n",
    "print(\"Selected # vars :\", len(top_fs_vars))\n",
    "top_fs_vars"
   ]
  },
  {
   "cell_type": "markdown",
   "metadata": {},
   "source": [
    "#### (b) Dimensional Reduction: PCA"
   ]
  },
  {
   "cell_type": "code",
   "execution_count": 167,
   "metadata": {},
   "outputs": [
    {
     "name": "stdout",
     "output_type": "stream",
     "text": [
      "PVE = 0.7368053181938314\n",
      "Wall time: 21 s\n"
     ]
    }
   ],
   "source": [
    "%%time\n",
    "# Build PCA and check the explained variance\n",
    "# Note: If the num vars were scaled (but the dummy were not) PVE is no longer correct\n",
    "pca = PCA(n_components=200)\n",
    "pca.fit(train[predictors])\n",
    "print(\"PVE =\", pca.explained_variance_ratio_.sum())\n",
    "# Transform train, test\n",
    "train_pca = pca.transform(train[predictors])\n",
    "test_pca = pca.transform(test[predictors])"
   ]
  },
  {
   "cell_type": "code",
   "execution_count": 168,
   "metadata": {},
   "outputs": [
    {
     "data": {
      "image/png": "[encoded data removed]",
      "text/plain": [
       "<Figure size 432x288 with 1 Axes>"
      ]
     },
     "metadata": {
      "needs_background": "light"
     },
     "output_type": "display_data"
    },
    {
     "name": "stdout",
     "output_type": "stream",
     "text": [
      "Wall time: 255 ms\n"
     ]
    }
   ],
   "source": [
    "%%time\n",
    "# Visualize the PVE of PCA\n",
    "plt.plot(np.cumsum(pca.explained_variance_ratio_))\n",
    "plt.xlabel('PC')\n",
    "plt.ylabel('PVE')\n",
    "plt.show()"
   ]
  },
  {
   "cell_type": "code",
   "execution_count": 169,
   "metadata": {},
   "outputs": [
    {
     "name": "stdout",
     "output_type": "stream",
     "text": [
      "Wall time: 18 ms\n"
     ]
    },
    {
     "data": {
      "text/html": [
       "<div>\n",
       "<style scoped>\n",
       "    .dataframe tbody tr th:only-of-type {\n",
       "        vertical-align: middle;\n",
       "    }\n",
       "\n",
       "    .dataframe tbody tr th {\n",
       "        vertical-align: top;\n",
       "    }\n",
       "\n",
       "    .dataframe thead th {\n",
       "        text-align: right;\n",
       "    }\n",
       "</style>\n",
       "<table border=\"1\" class=\"dataframe\">\n",
       "  <thead>\n",
       "    <tr style=\"text-align: right;\">\n",
       "      <th></th>\n",
       "      <th>PC1</th>\n",
       "      <th>PC2</th>\n",
       "    </tr>\n",
       "  </thead>\n",
       "  <tbody>\n",
       "    <tr>\n",
       "      <th>Var1</th>\n",
       "      <td>-0.000024</td>\n",
       "      <td>0.000006</td>\n",
       "    </tr>\n",
       "    <tr>\n",
       "      <th>Var3</th>\n",
       "      <td>-0.000133</td>\n",
       "      <td>-0.000032</td>\n",
       "    </tr>\n",
       "  </tbody>\n",
       "</table>\n",
       "</div>"
      ],
      "text/plain": [
       "           PC1       PC2\n",
       "Var1 -0.000024  0.000006\n",
       "Var3 -0.000133 -0.000032"
      ]
     },
     "execution_count": 169,
     "metadata": {},
     "output_type": "execute_result"
    }
   ],
   "source": [
    "%%time\n",
    "# Reconstruct the loading vectors\n",
    "loading_vecs = pca.components_.T * np.sqrt(pca.explained_variance_)\n",
    "loading_vecs = pd.DataFrame(loading_vecs,\n",
    "                            columns=['PC' + str(i) for i in list(range(1, pca.n_components_+1))],\n",
    "                            index=predictors)\n",
    "loading_vecs.iloc[:2, :2]"
   ]
  },
  {
   "cell_type": "code",
   "execution_count": 170,
   "metadata": {},
   "outputs": [
    {
     "data": {
      "image/png": "[encoded data removed]",
      "text/plain": [
       "<Figure size 432x432 with 1 Axes>"
      ]
     },
     "metadata": {
      "needs_background": "light"
     },
     "output_type": "display_data"
    },
    {
     "name": "stdout",
     "output_type": "stream",
     "text": [
      "Wall time: 583 ms\n"
     ]
    }
   ],
   "source": [
    "%%time\n",
    "# Visualize the group of data\n",
    "fig, axes = plt.subplots(1, 1, figsize=(6, 6))\n",
    "colors = np.array(['blue'] * len(train[target_var]))\n",
    "colors[train[target_var].squeeze() == 1] = 'red'\n",
    "plt.scatter(x=train_pca[:, 0], y=train_pca[:, 1], color=colors, s=2)\n",
    "plt.quiver([0, 0], [0, 0],\n",
    "           loading_vecs.iloc[:2, :2]['PC1'].tolist(),\n",
    "           loading_vecs.iloc[:2, :2]['PC2'].tolist(),\n",
    "           color=['y','y'])\n",
    "plt.xlim(-10, 10)\n",
    "plt.ylim(-10, 10)\n",
    "plt.xlabel('PC1')\n",
    "plt.ylabel('PC2')\n",
    "plt.show()"
   ]
  },
  {
   "cell_type": "markdown",
   "metadata": {},
   "source": [
    "## 3. Modeling\n",
    "\n",
    "<u>Reference:</u>  \n",
    "\n",
    "- Lessmann, S., Baesens, B., Seow, H. V., & Thomas, L. C. (2015). Benchmarking state-of-the-art classification algorithms for credit scoring: An update of research. European Journal of Operational Research, 247(1), 124-136.File "
   ]
  },
  {
   "cell_type": "code",
   "execution_count": 85,
   "metadata": {},
   "outputs": [
    {
     "name": "stdout",
     "output_type": "stream",
     "text": [
      "Wall time: 0 ns\n"
     ]
    }
   ],
   "source": [
    "%%time\n",
    "# List of parameter tuning using cross validation for all models\n",
    "model_grid = {}"
   ]
  },
  {
   "cell_type": "code",
   "execution_count": 86,
   "metadata": {},
   "outputs": [
    {
     "name": "stdout",
     "output_type": "stream",
     "text": [
      "(10000, 13349)\n",
      "_std_all13349_v5.3\n",
      "Wall time: 939 ms\n"
     ]
    }
   ],
   "source": [
    "%%time\n",
    "# Prepare the data, select the variable set\n",
    "var_set = 'all'  # all = all vars, fs = top fisher score, pca = first PCs\n",
    "if var_set == 'all':\n",
    "    X = train[predictors]\n",
    "    X_test = test[predictors]\n",
    "    test_id = test[id_var]\n",
    "elif var_set == 'fs':\n",
    "    X = train[top_fs_vars]\n",
    "    X_test = test[top_fs_vars]\n",
    "    test_id = test[id_var]\n",
    "elif var_set == 'pca':\n",
    "    X = train_pca\n",
    "    X_test = test_pca\n",
    "    test_id = test[id_var]\n",
    "y = train[target_var].values.squeeze()\n",
    "print(X.shape)\n",
    "\n",
    "# Update output file name\n",
    "fname = '_' + data_prep + '_' + var_set + str(X.shape[1]) + '_' + exp_version\n",
    "print(fname)\n",
    "\n",
    "# Remove unused data\n",
    "# del train, test, train_pca, test_pca"
   ]
  },
  {
   "cell_type": "markdown",
   "metadata": {},
   "source": [
    "### 3.1. Modeling"
   ]
  },
  {
   "cell_type": "markdown",
   "metadata": {},
   "source": [
    "#### 3.1.1. Logistic Regression"
   ]
  },
  {
   "cell_type": "code",
   "execution_count": 87,
   "metadata": {
    "scrolled": true
   },
   "outputs": [
    {
     "name": "stdout",
     "output_type": "stream",
     "text": [
      "Fitting 5 folds for each of 12 candidates, totalling 60 fits\n"
     ]
    },
    {
     "name": "stderr",
     "output_type": "stream",
     "text": [
      "[Parallel(n_jobs=-1)]: Using backend LokyBackend with 8 concurrent workers.\n",
      "[Parallel(n_jobs=-1)]: Done   2 tasks      | elapsed:   14.0s\n",
      "[Parallel(n_jobs=-1)]: Done   9 tasks      | elapsed:   27.6s\n",
      "[Parallel(n_jobs=-1)]: Done  16 tasks      | elapsed:   37.8s\n",
      "[Parallel(n_jobs=-1)]: Done  25 tasks      | elapsed:   56.2s\n",
      "[Parallel(n_jobs=-1)]: Done  34 tasks      | elapsed:  1.3min\n",
      "[Parallel(n_jobs=-1)]: Done  45 tasks      | elapsed:  1.7min\n",
      "[Parallel(n_jobs=-1)]: Done  52 out of  60 | elapsed:  2.1min remaining:   19.3s\n",
      "[Parallel(n_jobs=-1)]: Done  60 out of  60 | elapsed:  2.3min finished\n"
     ]
    },
    {
     "name": "stdout",
     "output_type": "stream",
     "text": [
      "Best model - AUC train: 0.7796367020313479\n",
      "Best model - AUC test: 0.7028370683782561\n",
      "Best model - params: {'C': 0.1, 'penalty': 'l1'}\n",
      "Wall time: 2min 25s\n"
     ]
    }
   ],
   "source": [
    "%%time\n",
    "# Find the best parameters\n",
    "cv = StratifiedKFold(n_splits=5, random_state=1, shuffle=True)\n",
    "model = LogisticRegression(max_iter=500, class_weight='balanced',\n",
    "                           solver='liblinear')  # liblinear, saga\n",
    "parameters = {'penalty': ['l1', 'l2'],\n",
    "              'C': [0.001, 0.01, 0.1, 0.5, 1, 2]}\n",
    "clf = GridSearchCV(model, parameters, scoring=\"roc_auc\", n_jobs=-1, cv=cv, verbose=10, return_train_score=True)\n",
    "clf.fit(X, y)\n",
    "model_grid['lr'] = clf  # Store the CV result\n",
    "best_test_idx = np.where(clf.cv_results_['rank_test_score'] == 1)[0][0]\n",
    "print('Best model - AUC train:', clf.cv_results_['mean_train_score'][best_test_idx])\n",
    "print('Best model - AUC test:', clf.cv_results_['mean_test_score'][best_test_idx])\n",
    "print(\"Best model - params:\", clf.best_params_)"
   ]
  },
  {
   "cell_type": "markdown",
   "metadata": {},
   "source": [
    "#### 3.1.2. Linear Discriminant Analysis"
   ]
  },
  {
   "cell_type": "code",
   "execution_count": 69,
   "metadata": {
    "scrolled": true
   },
   "outputs": [
    {
     "name": "stdout",
     "output_type": "stream",
     "text": [
      "Fitting 5 folds for each of 1 candidates, totalling 5 fits\n"
     ]
    },
    {
     "name": "stderr",
     "output_type": "stream",
     "text": [
      "[Parallel(n_jobs=-1)]: Using backend LokyBackend with 8 concurrent workers.\n",
      "[Parallel(n_jobs=-1)]: Done   2 out of   5 | elapsed:    1.6s remaining:    2.4s\n",
      "[Parallel(n_jobs=-1)]: Done   3 out of   5 | elapsed:    1.6s remaining:    1.0s\n",
      "[Parallel(n_jobs=-1)]: Done   5 out of   5 | elapsed:    1.7s remaining:    0.0s\n",
      "[Parallel(n_jobs=-1)]: Done   5 out of   5 | elapsed:    1.7s finished\n"
     ]
    },
    {
     "name": "stdout",
     "output_type": "stream",
     "text": [
      "Best model - AUC train: 0.7917242609329095\n",
      "Best model - AUC test: 0.6695001112202685\n",
      "Best model - params: {}\n",
      "Wall time: 2.86 s\n"
     ]
    }
   ],
   "source": [
    "%%time\n",
    "# Find the best parameters\n",
    "cv = StratifiedKFold(n_splits=5, random_state=1, shuffle=True)\n",
    "model = LinearDiscriminantAnalysis()\n",
    "parameters = {}\n",
    "clf = GridSearchCV(model, parameters, scoring=\"roc_auc\", n_jobs=-1, cv=cv, verbose=10, return_train_score=True)\n",
    "clf.fit(X, y)\n",
    "model_grid['lda'] = clf  # Store the CV result\n",
    "best_test_idx = np.where(clf.cv_results_['rank_test_score'] == 1)[0][0]\n",
    "print('Best model - AUC train:', clf.cv_results_['mean_train_score'][best_test_idx])\n",
    "print('Best model - AUC test:', clf.cv_results_['mean_test_score'][best_test_idx])\n",
    "print(\"Best model - params:\", clf.best_params_)"
   ]
  },
  {
   "cell_type": "markdown",
   "metadata": {},
   "source": [
    "#### 3.1.3. Random Forest"
   ]
  },
  {
   "cell_type": "code",
   "execution_count": 70,
   "metadata": {
    "scrolled": true
   },
   "outputs": [
    {
     "name": "stdout",
     "output_type": "stream",
     "text": [
      "Fitting 5 folds for each of 30 candidates, totalling 150 fits\n"
     ]
    },
    {
     "name": "stderr",
     "output_type": "stream",
     "text": [
      "[Parallel(n_jobs=-1)]: Using backend LokyBackend with 8 concurrent workers.\n",
      "[Parallel(n_jobs=-1)]: Done   2 tasks      | elapsed:    3.3s\n",
      "[Parallel(n_jobs=-1)]: Done   9 tasks      | elapsed:   11.2s\n",
      "[Parallel(n_jobs=-1)]: Done  16 tasks      | elapsed:   31.8s\n",
      "[Parallel(n_jobs=-1)]: Done  25 tasks      | elapsed:   47.3s\n",
      "[Parallel(n_jobs=-1)]: Done  34 tasks      | elapsed:  1.1min\n",
      "[Parallel(n_jobs=-1)]: Done  45 tasks      | elapsed:  1.7min\n",
      "[Parallel(n_jobs=-1)]: Done  56 tasks      | elapsed:  2.0min\n",
      "[Parallel(n_jobs=-1)]: Done  69 tasks      | elapsed:  2.8min\n",
      "[Parallel(n_jobs=-1)]: Done  82 tasks      | elapsed:  3.2min\n",
      "[Parallel(n_jobs=-1)]: Done  97 tasks      | elapsed:  4.2min\n",
      "[Parallel(n_jobs=-1)]: Done 112 tasks      | elapsed:  5.1min\n",
      "[Parallel(n_jobs=-1)]: Done 129 tasks      | elapsed:  6.3min\n",
      "[Parallel(n_jobs=-1)]: Done 150 out of 150 | elapsed:  8.6min finished\n"
     ]
    },
    {
     "name": "stdout",
     "output_type": "stream",
     "text": [
      "Best model - AUC train: 1.0\n",
      "Best model - AUC test: 0.7027441351139003\n",
      "Best model - params: {'max_features': 41, 'n_estimators': 750}\n",
      "Wall time: 9min 14s\n"
     ]
    }
   ],
   "source": [
    "%%time\n",
    "# Find the best parameters\n",
    "cv = StratifiedKFold(n_splits=5, random_state=1, shuffle=True)\n",
    "model = RandomForestClassifier(class_weight=\"balanced\", random_state=1)\n",
    "parameters = {'n_estimators': [100, 250, 500, 750, 1000],\n",
    "              'max_features': np.round(np.sqrt(X.shape[1]*np.array([0.1, 0.25, 0.5, 1, 2, 4]))).astype(int).tolist()}\n",
    "clf = GridSearchCV(model, parameters, scoring='roc_auc', n_jobs=-1, cv=cv, verbose=10, return_train_score=True)\n",
    "clf.fit(X, y)\n",
    "model_grid['rf'] = clf  # Store the CV result\n",
    "best_test_idx = np.where(clf.cv_results_['rank_test_score'] == 1)[0][0]\n",
    "print('Best model - AUC train:', clf.cv_results_['mean_train_score'][best_test_idx])\n",
    "print('Best model - AUC test:', clf.cv_results_['mean_test_score'][best_test_idx])\n",
    "print(\"Best model - params:\", clf.best_params_)"
   ]
  },
  {
   "cell_type": "code",
   "execution_count": 183,
   "metadata": {},
   "outputs": [
    {
     "data": {
      "text/html": [
       "<div>\n",
       "<style scoped>\n",
       "    .dataframe tbody tr th:only-of-type {\n",
       "        vertical-align: middle;\n",
       "    }\n",
       "\n",
       "    .dataframe tbody tr th {\n",
       "        vertical-align: top;\n",
       "    }\n",
       "\n",
       "    .dataframe thead th {\n",
       "        text-align: right;\n",
       "    }\n",
       "</style>\n",
       "<table border=\"1\" class=\"dataframe\">\n",
       "  <thead>\n",
       "    <tr style=\"text-align: right;\">\n",
       "      <th></th>\n",
       "      <th>v</th>\n",
       "      <th>varimp</th>\n",
       "    </tr>\n",
       "  </thead>\n",
       "  <tbody>\n",
       "    <tr>\n",
       "      <th>29</th>\n",
       "      <td>Var113</td>\n",
       "      <td>0.021343</td>\n",
       "    </tr>\n",
       "    <tr>\n",
       "      <th>201</th>\n",
       "      <td>Var81</td>\n",
       "      <td>0.018963</td>\n",
       "    </tr>\n",
       "    <tr>\n",
       "      <th>127</th>\n",
       "      <td>Var126</td>\n",
       "      <td>0.018847</td>\n",
       "    </tr>\n",
       "    <tr>\n",
       "      <th>480</th>\n",
       "      <td>Var204_woe</td>\n",
       "      <td>0.018531</td>\n",
       "    </tr>\n",
       "    <tr>\n",
       "      <th>10</th>\n",
       "      <td>Var73</td>\n",
       "      <td>0.017973</td>\n",
       "    </tr>\n",
       "    <tr>\n",
       "      <th>272</th>\n",
       "      <td>Var6</td>\n",
       "      <td>0.017631</td>\n",
       "    </tr>\n",
       "    <tr>\n",
       "      <th>9</th>\n",
       "      <td>Var126^2</td>\n",
       "      <td>0.017042</td>\n",
       "    </tr>\n",
       "    <tr>\n",
       "      <th>415</th>\n",
       "      <td>Var119</td>\n",
       "      <td>0.016178</td>\n",
       "    </tr>\n",
       "    <tr>\n",
       "      <th>8</th>\n",
       "      <td>Var189</td>\n",
       "      <td>0.016092</td>\n",
       "    </tr>\n",
       "    <tr>\n",
       "      <th>280</th>\n",
       "      <td>Var134</td>\n",
       "      <td>0.015837</td>\n",
       "    </tr>\n",
       "  </tbody>\n",
       "</table>\n",
       "</div>"
      ],
      "text/plain": [
       "              v    varimp\n",
       "29       Var113  0.021343\n",
       "201       Var81  0.018963\n",
       "127      Var126  0.018847\n",
       "480  Var204_woe  0.018531\n",
       "10        Var73  0.017973\n",
       "272        Var6  0.017631\n",
       "9      Var126^2  0.017042\n",
       "415      Var119  0.016178\n",
       "8        Var189  0.016092\n",
       "280      Var134  0.015837"
      ]
     },
     "execution_count": 183,
     "metadata": {},
     "output_type": "execute_result"
    }
   ],
   "source": [
    "# Most important vars\n",
    "rf_varimp = pd.DataFrame({\"v\":X.columns, \"varimp\":clf.best_estimator_.feature_importances_})\n",
    "rf_varimp.sort_values(by=\"varimp\", ascending=False).head(10)"
   ]
  },
  {
   "cell_type": "markdown",
   "metadata": {},
   "source": [
    "#### 3.1.4. Gradient Boosting"
   ]
  },
  {
   "cell_type": "code",
   "execution_count": 184,
   "metadata": {
    "scrolled": true
   },
   "outputs": [
    {
     "name": "stdout",
     "output_type": "stream",
     "text": [
      "Fitting 5 folds for each of 1152 candidates, totalling 5760 fits\n"
     ]
    },
    {
     "name": "stderr",
     "output_type": "stream",
     "text": [
      "[Parallel(n_jobs=-1)]: Using backend LokyBackend with 8 concurrent workers.\n",
      "[Parallel(n_jobs=-1)]: Done   2 tasks      | elapsed:    4.0s\n",
      "[Parallel(n_jobs=-1)]: Done   9 tasks      | elapsed:    5.4s\n",
      "[Parallel(n_jobs=-1)]: Done  16 tasks      | elapsed:    5.5s\n",
      "[Parallel(n_jobs=-1)]: Done  25 tasks      | elapsed:    8.1s\n",
      "[Parallel(n_jobs=-1)]: Done  34 tasks      | elapsed:    9.6s\n",
      "[Parallel(n_jobs=-1)]: Done  45 tasks      | elapsed:   11.1s\n",
      "[Parallel(n_jobs=-1)]: Done  56 tasks      | elapsed:   12.7s\n",
      "[Parallel(n_jobs=-1)]: Done  69 tasks      | elapsed:   15.3s\n",
      "[Parallel(n_jobs=-1)]: Done  82 tasks      | elapsed:   17.9s\n",
      "[Parallel(n_jobs=-1)]: Done  97 tasks      | elapsed:   20.6s\n",
      "[Parallel(n_jobs=-1)]: Done 112 tasks      | elapsed:   22.7s\n",
      "[Parallel(n_jobs=-1)]: Done 129 tasks      | elapsed:   26.3s\n",
      "[Parallel(n_jobs=-1)]: Done 146 tasks      | elapsed:   29.2s\n",
      "[Parallel(n_jobs=-1)]: Done 165 tasks      | elapsed:   32.3s\n",
      "[Parallel(n_jobs=-1)]: Done 184 tasks      | elapsed:   35.3s\n",
      "[Parallel(n_jobs=-1)]: Done 205 tasks      | elapsed:   39.4s\n",
      "[Parallel(n_jobs=-1)]: Done 226 tasks      | elapsed:   43.0s\n",
      "[Parallel(n_jobs=-1)]: Done 249 tasks      | elapsed:   47.2s\n",
      "[Parallel(n_jobs=-1)]: Done 272 tasks      | elapsed:   51.1s\n",
      "[Parallel(n_jobs=-1)]: Done 297 tasks      | elapsed:   56.0s\n",
      "[Parallel(n_jobs=-1)]: Done 322 tasks      | elapsed:  1.0min\n",
      "[Parallel(n_jobs=-1)]: Done 349 tasks      | elapsed:  1.1min\n",
      "[Parallel(n_jobs=-1)]: Done 376 tasks      | elapsed:  1.2min\n",
      "[Parallel(n_jobs=-1)]: Done 405 tasks      | elapsed:  1.3min\n",
      "[Parallel(n_jobs=-1)]: Done 434 tasks      | elapsed:  1.4min\n",
      "[Parallel(n_jobs=-1)]: Done 465 tasks      | elapsed:  1.5min\n",
      "[Parallel(n_jobs=-1)]: Done 496 tasks      | elapsed:  1.6min\n",
      "[Parallel(n_jobs=-1)]: Done 529 tasks      | elapsed:  1.7min\n",
      "[Parallel(n_jobs=-1)]: Done 562 tasks      | elapsed:  1.8min\n",
      "[Parallel(n_jobs=-1)]: Done 597 tasks      | elapsed:  1.9min\n",
      "[Parallel(n_jobs=-1)]: Done 632 tasks      | elapsed:  2.0min\n",
      "[Parallel(n_jobs=-1)]: Done 669 tasks      | elapsed:  2.1min\n",
      "[Parallel(n_jobs=-1)]: Done 706 tasks      | elapsed:  2.3min\n",
      "[Parallel(n_jobs=-1)]: Done 745 tasks      | elapsed:  2.4min\n",
      "[Parallel(n_jobs=-1)]: Done 784 tasks      | elapsed:  2.5min\n",
      "[Parallel(n_jobs=-1)]: Done 825 tasks      | elapsed:  2.6min\n",
      "[Parallel(n_jobs=-1)]: Done 866 tasks      | elapsed:  2.7min\n",
      "[Parallel(n_jobs=-1)]: Done 909 tasks      | elapsed:  2.9min\n",
      "[Parallel(n_jobs=-1)]: Done 952 tasks      | elapsed:  3.0min\n",
      "[Parallel(n_jobs=-1)]: Done 997 tasks      | elapsed:  3.1min\n",
      "[Parallel(n_jobs=-1)]: Done 1042 tasks      | elapsed:  3.2min\n",
      "[Parallel(n_jobs=-1)]: Done 1089 tasks      | elapsed:  3.4min\n",
      "[Parallel(n_jobs=-1)]: Done 1136 tasks      | elapsed:  3.5min\n",
      "[Parallel(n_jobs=-1)]: Done 1185 tasks      | elapsed:  3.7min\n",
      "[Parallel(n_jobs=-1)]: Done 1234 tasks      | elapsed:  3.8min\n",
      "[Parallel(n_jobs=-1)]: Done 1285 tasks      | elapsed:  4.0min\n",
      "[Parallel(n_jobs=-1)]: Done 1336 tasks      | elapsed:  4.2min\n",
      "[Parallel(n_jobs=-1)]: Done 1389 tasks      | elapsed:  4.4min\n",
      "[Parallel(n_jobs=-1)]: Done 1442 tasks      | elapsed:  4.5min\n",
      "[Parallel(n_jobs=-1)]: Done 1497 tasks      | elapsed:  4.7min\n",
      "[Parallel(n_jobs=-1)]: Done 1552 tasks      | elapsed:  4.8min\n",
      "[Parallel(n_jobs=-1)]: Done 1609 tasks      | elapsed:  5.0min\n",
      "[Parallel(n_jobs=-1)]: Done 1666 tasks      | elapsed:  5.2min\n",
      "[Parallel(n_jobs=-1)]: Done 1725 tasks      | elapsed:  5.3min\n",
      "[Parallel(n_jobs=-1)]: Done 1784 tasks      | elapsed:  5.5min\n",
      "[Parallel(n_jobs=-1)]: Done 1845 tasks      | elapsed:  5.7min\n",
      "[Parallel(n_jobs=-1)]: Done 1906 tasks      | elapsed:  5.9min\n",
      "[Parallel(n_jobs=-1)]: Done 1969 tasks      | elapsed:  6.1min\n",
      "[Parallel(n_jobs=-1)]: Done 2032 tasks      | elapsed:  6.3min\n",
      "[Parallel(n_jobs=-1)]: Done 2097 tasks      | elapsed:  6.5min\n",
      "[Parallel(n_jobs=-1)]: Done 2162 tasks      | elapsed:  6.7min\n",
      "[Parallel(n_jobs=-1)]: Done 2229 tasks      | elapsed:  6.9min\n",
      "[Parallel(n_jobs=-1)]: Done 2296 tasks      | elapsed:  7.1min\n",
      "[Parallel(n_jobs=-1)]: Done 2365 tasks      | elapsed:  7.3min\n",
      "[Parallel(n_jobs=-1)]: Done 2434 tasks      | elapsed:  7.5min\n",
      "[Parallel(n_jobs=-1)]: Done 2505 tasks      | elapsed:  7.7min\n",
      "[Parallel(n_jobs=-1)]: Done 2576 tasks      | elapsed:  7.9min\n",
      "[Parallel(n_jobs=-1)]: Done 2649 tasks      | elapsed:  8.1min\n",
      "[Parallel(n_jobs=-1)]: Done 2722 tasks      | elapsed:  8.4min\n",
      "[Parallel(n_jobs=-1)]: Done 2797 tasks      | elapsed:  8.6min\n",
      "[Parallel(n_jobs=-1)]: Done 2872 tasks      | elapsed:  8.8min\n",
      "[Parallel(n_jobs=-1)]: Done 2949 tasks      | elapsed:  9.1min\n",
      "[Parallel(n_jobs=-1)]: Done 3026 tasks      | elapsed:  9.3min\n",
      "[Parallel(n_jobs=-1)]: Done 3105 tasks      | elapsed:  9.5min\n",
      "[Parallel(n_jobs=-1)]: Done 3184 tasks      | elapsed:  9.7min\n",
      "[Parallel(n_jobs=-1)]: Done 3265 tasks      | elapsed: 10.0min\n",
      "[Parallel(n_jobs=-1)]: Done 3346 tasks      | elapsed: 10.3min\n",
      "[Parallel(n_jobs=-1)]: Done 3429 tasks      | elapsed: 10.5min\n",
      "[Parallel(n_jobs=-1)]: Done 3512 tasks      | elapsed: 10.8min\n",
      "[Parallel(n_jobs=-1)]: Done 3597 tasks      | elapsed: 11.1min\n",
      "[Parallel(n_jobs=-1)]: Done 3682 tasks      | elapsed: 11.3min\n",
      "[Parallel(n_jobs=-1)]: Done 3769 tasks      | elapsed: 11.6min\n",
      "[Parallel(n_jobs=-1)]: Done 3856 tasks      | elapsed: 11.8min\n",
      "[Parallel(n_jobs=-1)]: Done 3945 tasks      | elapsed: 12.1min\n",
      "[Parallel(n_jobs=-1)]: Done 4034 tasks      | elapsed: 12.4min\n",
      "[Parallel(n_jobs=-1)]: Done 4125 tasks      | elapsed: 12.6min\n",
      "[Parallel(n_jobs=-1)]: Done 4216 tasks      | elapsed: 12.9min\n",
      "[Parallel(n_jobs=-1)]: Done 4309 tasks      | elapsed: 13.2min\n",
      "[Parallel(n_jobs=-1)]: Done 4402 tasks      | elapsed: 13.5min\n",
      "[Parallel(n_jobs=-1)]: Done 4497 tasks      | elapsed: 13.8min\n",
      "[Parallel(n_jobs=-1)]: Done 4592 tasks      | elapsed: 14.0min\n",
      "[Parallel(n_jobs=-1)]: Done 4689 tasks      | elapsed: 14.3min\n",
      "[Parallel(n_jobs=-1)]: Done 4786 tasks      | elapsed: 14.6min\n",
      "[Parallel(n_jobs=-1)]: Done 4885 tasks      | elapsed: 14.9min\n",
      "[Parallel(n_jobs=-1)]: Done 4984 tasks      | elapsed: 15.2min\n",
      "[Parallel(n_jobs=-1)]: Done 5085 tasks      | elapsed: 15.6min\n",
      "[Parallel(n_jobs=-1)]: Done 5186 tasks      | elapsed: 15.8min\n",
      "[Parallel(n_jobs=-1)]: Done 5289 tasks      | elapsed: 16.1min\n",
      "[Parallel(n_jobs=-1)]: Done 5392 tasks      | elapsed: 16.4min\n",
      "[Parallel(n_jobs=-1)]: Done 5497 tasks      | elapsed: 16.8min\n",
      "[Parallel(n_jobs=-1)]: Done 5602 tasks      | elapsed: 17.1min\n",
      "[Parallel(n_jobs=-1)]: Done 5709 tasks      | elapsed: 17.4min\n",
      "[Parallel(n_jobs=-1)]: Done 5760 out of 5760 | elapsed: 17.6min finished\n"
     ]
    },
    {
     "name": "stdout",
     "output_type": "stream",
     "text": [
      "Best AUC train: 0.9154082464757434\n",
      "Best AUC test: 0.76872562648519\n",
      "Best params: {'colsample_bytree': 0.65, 'learning_rate': 0.2, 'max_depth': 3, 'n_estimators': 100, 'num_leaves': 8, 'objective': 'binary', 'reg_alpha': 1.2, 'reg_lambda': 1.4, 'subsample': 0.7}\n",
      "Wall time: 17min 36s\n"
     ]
    }
   ],
   "source": [
    "%%time\n",
    "# Find the best parameters\n",
    "cv = StratifiedKFold(n_splits=5, random_state=1, shuffle=True)\n",
    "model = LGBMClassifier(boosting_type='gbdt', random_state=1)\n",
    "parameters = {\n",
    "    'objective': ['binary'],\n",
    "    'learning_rate': [0.01, 0.05, 0.1, 0.2],\n",
    "    'num_leaves': [6, 8, 12, 16],\n",
    "    'max_depth': [3, 5, 8],\n",
    "    'subsample': [0.7, 0.75],\n",
    "    'colsample_bytree': [0.65, 0.66],\n",
    "    'n_estimators': [100],\n",
    "    'reg_alpha': [1, 1.2],\n",
    "    'reg_lambda': [1, 1.2, 1.4],\n",
    "}\n",
    "clf = GridSearchCV(model, parameters, scoring='roc_auc', n_jobs=-1, cv=cv, verbose=10, return_train_score=True)\n",
    "clf.fit(X, y)\n",
    "model_grid['gb'] = clf  # Store the CV result\n",
    "best_test_idx = np.where(clf.cv_results_['rank_test_score'] == 1)[0][0]\n",
    "print('Best model - AUC train:', clf.cv_results_['mean_train_score'][best_test_idx])\n",
    "print('Best model - AUC test:', clf.cv_results_['mean_test_score'][best_test_idx])\n",
    "print(\"Best model - params:\", clf.best_params_)"
   ]
  },
  {
   "cell_type": "code",
   "execution_count": 185,
   "metadata": {
    "scrolled": true
   },
   "outputs": [],
   "source": [
    "# %%time\n",
    "# # Find the best parameters\n",
    "# cv = StratifiedKFold(n_splits=5, random_state=1, shuffle=True)\n",
    "# model = GradientBoostingClassifier(random_state=1, validation_fraction=0.2, n_iter_no_change=10)\n",
    "# parameters = {\n",
    "#     'loss': ['deviance'],\n",
    "#     'learning_rate': [0.01, 0.025, 0.05, 0.075, 0.1, 0.15, 0.2],\n",
    "#     'min_samples_split': np.linspace(0.1, 0.5, 12),\n",
    "#     'min_samples_leaf': np.linspace(0.1, 0.5, 12),\n",
    "#     'max_depth': [3, 5, 8],\n",
    "#     'max_features':['log2', 'sqrt'],\n",
    "#     'criterion': ['friedman_mse'],\n",
    "#     'subsample': [0.5, 0.618, 0.8, 0.85, 0.9, 0.95, 1.0],\n",
    "#     'n_estimators': [500]\n",
    "# }\n",
    "# clf = GridSearchCV(model, parameters, scoring='roc_auc', n_jobs=-1, cv=cv, verbose=10, return_train_score=True)\n",
    "# clf.fit(X, y)\n",
    "# model_grid['gb'] = clf  # Store the CV result\n",
    "# best_test_idx = np.where(clf.cv_results_['rank_test_score'] == 1)[0][0]\n",
    "# print('Best model - AUC train:', clf.cv_results_['mean_train_score'][best_test_idx])\n",
    "# print('Best model - AUC test:', clf.cv_results_['mean_test_score'][best_test_idx])\n",
    "# print(\"Best model - params:\", clf.best_params_)"
   ]
  },
  {
   "cell_type": "markdown",
   "metadata": {},
   "source": [
    "#### 3.1.5. Neural Network"
   ]
  },
  {
   "cell_type": "code",
   "execution_count": 186,
   "metadata": {},
   "outputs": [
    {
     "name": "stdout",
     "output_type": "stream",
     "text": [
      "Fitting 5 folds for each of 1 candidates, totalling 5 fits\n"
     ]
    },
    {
     "name": "stderr",
     "output_type": "stream",
     "text": [
      "[Parallel(n_jobs=-1)]: Using backend LokyBackend with 8 concurrent workers.\n",
      "[Parallel(n_jobs=-1)]: Done   2 out of   5 | elapsed:   47.7s remaining:  1.2min\n",
      "[Parallel(n_jobs=-1)]: Done   3 out of   5 | elapsed:   54.1s remaining:   36.0s\n",
      "[Parallel(n_jobs=-1)]: Done   5 out of   5 | elapsed:  1.1min remaining:    0.0s\n",
      "[Parallel(n_jobs=-1)]: Done   5 out of   5 | elapsed:  1.1min finished\n"
     ]
    },
    {
     "name": "stdout",
     "output_type": "stream",
     "text": [
      "Best AUC train: 0.9999478566093716\n",
      "Best AUC test: 0.7466172202426948\n",
      "Best params: {}\n",
      "Wall time: 2min 6s\n"
     ]
    }
   ],
   "source": [
    "%%time\n",
    "# Find the best parameters\n",
    "cv = StratifiedKFold(n_splits=5, random_state=1, shuffle=True)\n",
    "model = MLPClassifier(hidden_layer_sizes=(256, 128, 64, 32, 16, 8),\n",
    "                      learning_rate_init=0.01, max_iter=800, random_state=1)\n",
    "parameters = {}\n",
    "clf = GridSearchCV(model, parameters, scoring=\"roc_auc\", n_jobs=-1, cv=cv, verbose=10, return_train_score=True)\n",
    "clf.fit(X, y)\n",
    "model_grid['nn'] = clf  # Store the CV result\n",
    "best_test_idx = np.where(clf.cv_results_['rank_test_score'] == 1)[0][0]\n",
    "print('Best model - AUC train:', clf.cv_results_['mean_train_score'][best_test_idx])\n",
    "print('Best model - AUC test:', clf.cv_results_['mean_test_score'][best_test_idx])\n",
    "print(\"Best model - params:\", clf.best_params_)"
   ]
  },
  {
   "cell_type": "markdown",
   "metadata": {},
   "source": [
    "#### Save the model parameter tuning results"
   ]
  },
  {
   "cell_type": "code",
   "execution_count": 187,
   "metadata": {},
   "outputs": [
    {
     "name": "stdout",
     "output_type": "stream",
     "text": [
      "Wall time: 1.14 s\n"
     ]
    }
   ],
   "source": [
    "%%time\n",
    "# Save, load models\n",
    "pickle.dump(model_grid, open(\"./out/model_grid\" + fname + \".pkl\", \"wb\"))\n",
    "model_grid = pickle.load(open(\"./out/model_grid\" + fname + \".pkl\", \"rb\"))"
   ]
  },
  {
   "cell_type": "markdown",
   "metadata": {},
   "source": [
    "### 3.2. Stacking & Voting ensemble\n",
    "\n",
    "<u>Reference:</u>\n",
    "- Ensemble methods. Link: https://scikit-learn.org/stable/modules/ensemble"
   ]
  },
  {
   "cell_type": "code",
   "execution_count": 188,
   "metadata": {},
   "outputs": [
    {
     "name": "stdout",
     "output_type": "stream",
     "text": [
      "Wall time: 0 ns\n"
     ]
    },
    {
     "data": {
      "text/plain": [
       "dict_keys(['lr', 'lda', 'rf', 'gb', 'nn'])"
      ]
     },
     "execution_count": 188,
     "metadata": {},
     "output_type": "execute_result"
    }
   ],
   "source": [
    "%%time\n",
    "# Available models\n",
    "model_grid.keys()"
   ]
  },
  {
   "cell_type": "code",
   "execution_count": 189,
   "metadata": {},
   "outputs": [
    {
     "name": "stdout",
     "output_type": "stream",
     "text": [
      "Wall time: 2.91 s\n"
     ]
    }
   ],
   "source": [
    "%%time\n",
    "# Make prediction from all models on test\n",
    "lr_pred = model_grid['lr'].best_estimator_.predict_proba(X_test)[:, 1]\n",
    "lda_pred = model_grid['lda'].best_estimator_.predict_proba(X_test)[:, 1]\n",
    "rf_pred = model_grid['rf'].best_estimator_.predict_proba(X_test)[:, 1]\n",
    "gb_pred = model_grid['gb'].best_estimator_.predict_proba(X_test)[:, 1]\n",
    "nn_pred = model_grid['nn'].best_estimator_.predict_proba(X_test)[:, 1]"
   ]
  },
  {
   "cell_type": "code",
   "execution_count": 190,
   "metadata": {},
   "outputs": [
    {
     "name": "stdout",
     "output_type": "stream",
     "text": [
      "Wall time: 66 ms\n"
     ]
    }
   ],
   "source": [
    "%%time\n",
    "# Aggregate the prediction of all models\n",
    "agg_pred = 1/5*lr_pred + 1/5*lda_pred + 1/5*rf_pred + 1/5*gb_pred + 1/5*nn_pred\n",
    "submission = pd.DataFrame({'cust_id':test_id.values.squeeze(), 'churn':agg_pred})\n",
    "submission.to_csv('./out/submission_agg' + fname + '.csv', index=False)"
   ]
  },
  {
   "cell_type": "markdown",
   "metadata": {},
   "source": [
    "### 3.3. Debugging\n",
    "\n",
    "To detect overfitting, underfitting problem, we can analyze the following analyses:\n",
    "- Each fold of the k-fold CV\n",
    "- Learning curve"
   ]
  },
  {
   "cell_type": "markdown",
   "metadata": {},
   "source": [
    "#### 3.3.1. Analyze the k-fold CV"
   ]
  },
  {
   "cell_type": "code",
   "execution_count": 121,
   "metadata": {},
   "outputs": [
    {
     "name": "stderr",
     "output_type": "stream",
     "text": [
      "[Parallel(n_jobs=-1)]: Using backend LokyBackend with 8 concurrent workers.\n",
      "[Parallel(n_jobs=-1)]: Done   2 out of   5 | elapsed:   23.8s remaining:   35.8s\n",
      "[Parallel(n_jobs=-1)]: Done   3 out of   5 | elapsed:   23.9s remaining:   15.9s\n",
      "[Parallel(n_jobs=-1)]: Done   5 out of   5 | elapsed:   24.2s remaining:    0.0s\n",
      "[Parallel(n_jobs=-1)]: Done   5 out of   5 | elapsed:   24.2s finished\n"
     ]
    },
    {
     "name": "stdout",
     "output_type": "stream",
     "text": [
      "Wall time: 24.6 s\n"
     ]
    }
   ],
   "source": [
    "%%time\n",
    "# Reconstruct the k-fold CV of a model with the best parameters\n",
    "cv = StratifiedKFold(n_splits=5, random_state=1, shuffle=True)\n",
    "clf = Pipeline([\n",
    "    #('smote', SMOTE()),\n",
    "    ('clf', LGBMClassifier(boosting_type='gbdt',\n",
    "                           n_estimators=500,\n",
    "                           learning_rate=0.01,\n",
    "                           max_depth=2,\n",
    "                           class_weight='balanced',\n",
    "                           subsample=0.6,\n",
    "                           reg_alpha=2,\n",
    "                           reg_lambda=2,\n",
    "                           random_state=1,\n",
    "                           n_jobs=-1))\n",
    "])\n",
    "scores = cross_validate(clf, X, y, scoring='roc_auc',\n",
    "                        cv=cv, n_jobs=-1, verbose=10, return_train_score=True)"
   ]
  },
  {
   "cell_type": "code",
   "execution_count": 192,
   "metadata": {
    "scrolled": true
   },
   "outputs": [],
   "source": [
    "# %%time\n",
    "# # Reconstruct the k-fold CV of a model with the best parameters\n",
    "# cv = StratifiedKFold(n_splits=5, random_state=1, shuffle=True)\n",
    "# clf = Pipeline([\n",
    "#     #('smote', SMOTE()),\n",
    "#     ('clf', GradientBoostingClassifier(criterion='friedman_mse',\n",
    "#                                        learning_rate=0.01,\n",
    "#                                        loss='deviance',\n",
    "#                                        max_depth=3,\n",
    "#                                        max_features='sqrt',\n",
    "#                                        min_samples_leaf=0.1,\n",
    "#                                        #min_samples_split=0.3,\n",
    "#                                        n_estimators=500,\n",
    "#                                        subsample=0.9,\n",
    "#                                        random_state=1,\n",
    "#                                        validation_fraction=0.2,\n",
    "#                                        n_iter_no_change=50))\n",
    "# ])\n",
    "# scores = cross_validate(clf, X, y, scoring='roc_auc',\n",
    "#                         cv=cv, n_jobs=-1, verbose=10, return_train_score=True)"
   ]
  },
  {
   "cell_type": "code",
   "execution_count": 122,
   "metadata": {},
   "outputs": [
    {
     "name": "stdout",
     "output_type": "stream",
     "text": [
      "Wall time: 0 ns\n"
     ]
    },
    {
     "data": {
      "text/html": [
       "<div>\n",
       "<style scoped>\n",
       "    .dataframe tbody tr th:only-of-type {\n",
       "        vertical-align: middle;\n",
       "    }\n",
       "\n",
       "    .dataframe tbody tr th {\n",
       "        vertical-align: top;\n",
       "    }\n",
       "\n",
       "    .dataframe thead th {\n",
       "        text-align: right;\n",
       "    }\n",
       "</style>\n",
       "<table border=\"1\" class=\"dataframe\">\n",
       "  <thead>\n",
       "    <tr style=\"text-align: right;\">\n",
       "      <th></th>\n",
       "      <th>train</th>\n",
       "      <th>test</th>\n",
       "    </tr>\n",
       "  </thead>\n",
       "  <tbody>\n",
       "    <tr>\n",
       "      <th>0</th>\n",
       "      <td>0.772751</td>\n",
       "      <td>0.744404</td>\n",
       "    </tr>\n",
       "    <tr>\n",
       "      <th>1</th>\n",
       "      <td>0.782422</td>\n",
       "      <td>0.722261</td>\n",
       "    </tr>\n",
       "    <tr>\n",
       "      <th>2</th>\n",
       "      <td>0.779932</td>\n",
       "      <td>0.726270</td>\n",
       "    </tr>\n",
       "    <tr>\n",
       "      <th>3</th>\n",
       "      <td>0.780597</td>\n",
       "      <td>0.716953</td>\n",
       "    </tr>\n",
       "    <tr>\n",
       "      <th>4</th>\n",
       "      <td>0.777714</td>\n",
       "      <td>0.743435</td>\n",
       "    </tr>\n",
       "  </tbody>\n",
       "</table>\n",
       "</div>"
      ],
      "text/plain": [
       "      train      test\n",
       "0  0.772751  0.744404\n",
       "1  0.782422  0.722261\n",
       "2  0.779932  0.726270\n",
       "3  0.780597  0.716953\n",
       "4  0.777714  0.743435"
      ]
     },
     "execution_count": 122,
     "metadata": {},
     "output_type": "execute_result"
    }
   ],
   "source": [
    "%%time\n",
    "# Print out the k-fold CV on train, test to analyze\n",
    "scores_df = pd.DataFrame({'train':scores['train_score'],\n",
    "                          'test':scores['test_score']})\n",
    "scores_df"
   ]
  },
  {
   "cell_type": "code",
   "execution_count": 123,
   "metadata": {},
   "outputs": [
    {
     "data": {
      "image/png": "[encoded data removed]",
      "text/plain": [
       "<Figure size 432x288 with 1 Axes>"
      ]
     },
     "metadata": {
      "needs_background": "light"
     },
     "output_type": "display_data"
    },
    {
     "name": "stdout",
     "output_type": "stream",
     "text": [
      "Wall time: 250 ms\n"
     ]
    }
   ],
   "source": [
    "%%time\n",
    "# Visualize the train, test score\n",
    "plt.plot(scores_df['train'], color='blue')\n",
    "plt.plot(scores_df['test'], color='red')\n",
    "plt.ylim(0.5, 1.01)\n",
    "plt.xticks(scores_df.index, scores_df.index+1)\n",
    "plt.xlabel('k-fold CV')\n",
    "plt.ylabel('AUC')\n",
    "plt.legend(('train AUC = ' + str(np.round(scores_df['train'].mean(), 2)),\n",
    "            'test AUC = ' + str(np.round(scores_df['test'].mean(), 2))))\n",
    "plt.show()"
   ]
  },
  {
   "cell_type": "markdown",
   "metadata": {},
   "source": [
    "#### 3.3.2. Analyze the learning curve\n",
    "\n",
    "<u>Reference:</u>\n",
    "- Plotting Learning Curves. Link: https://scikit-learn.org/stable/auto_examples/model_selection/plot_learning_curve.html"
   ]
  },
  {
   "cell_type": "code",
   "execution_count": 195,
   "metadata": {},
   "outputs": [
    {
     "name": "stdout",
     "output_type": "stream",
     "text": [
      "Wall time: 0 ns\n"
     ]
    }
   ],
   "source": [
    "%%time\n",
    "def plot_learning_curve(estimator, title, X, y, axes=None, ylim=None, cv=None, scoring=None,\n",
    "                        n_jobs=None, train_sizes=np.linspace(.1, 1.0, 5)):\n",
    "    \"\"\"\n",
    "    Generate 3 plots: the test and training learning curve, the training\n",
    "    samples vs fit times curve, the fit times vs score curve.\n",
    "\n",
    "    Parameters\n",
    "    ----------\n",
    "    estimator : estimator instance\n",
    "        An estimator instance implementing `fit` and `predict` methods which\n",
    "        will be cloned for each validation.\n",
    "\n",
    "    title : str\n",
    "        Title for the chart.\n",
    "\n",
    "    X : array-like of shape (n_samples, n_features)\n",
    "        Training vector, where ``n_samples`` is the number of samples and\n",
    "        ``n_features`` is the number of features.\n",
    "\n",
    "    y : array-like of shape (n_samples) or (n_samples, n_features)\n",
    "        Target relative to ``X`` for classification or regression;\n",
    "        None for unsupervised learning.\n",
    "\n",
    "    axes : array-like of shape (3,), default=None\n",
    "        Axes to use for plotting the curves.\n",
    "\n",
    "    ylim : tuple of shape (2,), default=None\n",
    "        Defines minimum and maximum y-values plotted, e.g. (ymin, ymax).\n",
    "\n",
    "    cv : int, cross-validation generator or an iterable, default=None\n",
    "        Determines the cross-validation splitting strategy.\n",
    "        Possible inputs for cv are:\n",
    "\n",
    "          - None, to use the default 5-fold cross-validation,\n",
    "          - integer, to specify the number of folds.\n",
    "          - :term:`CV splitter`,\n",
    "          - An iterable yielding (train, test) splits as arrays of indices.\n",
    "\n",
    "        For integer/None inputs, if ``y`` is binary or multiclass,\n",
    "        :class:`StratifiedKFold` used. If the estimator is not a classifier\n",
    "        or if ``y`` is neither binary nor multiclass, :class:`KFold` is used.\n",
    "\n",
    "        Refer :ref:`User Guide <cross_validation>` for the various\n",
    "        cross-validators that can be used here.\n",
    "\n",
    "    n_jobs : int or None, default=None\n",
    "        Number of jobs to run in parallel.\n",
    "        ``None`` means 1 unless in a :obj:`joblib.parallel_backend` context.\n",
    "        ``-1`` means using all processors. See :term:`Glossary <n_jobs>`\n",
    "        for more details.\n",
    "\n",
    "    train_sizes : array-like of shape (n_ticks,)\n",
    "        Relative or absolute numbers of training examples that will be used to\n",
    "        generate the learning curve. If the ``dtype`` is float, it is regarded\n",
    "        as a fraction of the maximum size of the training set (that is\n",
    "        determined by the selected validation method), i.e. it has to be within\n",
    "        (0, 1]. Otherwise it is interpreted as absolute sizes of the training\n",
    "        sets. Note that for classification the number of samples usually have\n",
    "        to be big enough to contain at least one sample from each class.\n",
    "        (default: np.linspace(0.1, 1.0, 5))\n",
    "    \"\"\"\n",
    "    if axes is None:\n",
    "        _, axes = plt.subplots(1, 3, figsize=(20, 5))\n",
    "\n",
    "    axes[0].set_title(title)\n",
    "    if ylim is not None:\n",
    "        axes[0].set_ylim(*ylim)\n",
    "    axes[0].set_xlabel(\"Training examples\")\n",
    "    axes[0].set_ylabel(\"Score\")\n",
    "\n",
    "    train_sizes, train_scores, test_scores, fit_times, _ = \\\n",
    "        learning_curve(estimator, X, y, cv=cv, scoring=scoring, n_jobs=n_jobs,\n",
    "                       train_sizes=train_sizes,\n",
    "                       return_times=True)\n",
    "    train_scores_mean = np.mean(train_scores, axis=1)\n",
    "    train_scores_std = np.std(train_scores, axis=1)\n",
    "    test_scores_mean = np.mean(test_scores, axis=1)\n",
    "    test_scores_std = np.std(test_scores, axis=1)\n",
    "    fit_times_mean = np.mean(fit_times, axis=1)\n",
    "    fit_times_std = np.std(fit_times, axis=1)\n",
    "\n",
    "    # Plot learning curve\n",
    "    axes[0].grid()\n",
    "    axes[0].fill_between(train_sizes, train_scores_mean - train_scores_std,\n",
    "                         train_scores_mean + train_scores_std, alpha=0.1,\n",
    "                         color=\"r\")\n",
    "    axes[0].fill_between(train_sizes, test_scores_mean - test_scores_std,\n",
    "                         test_scores_mean + test_scores_std, alpha=0.1,\n",
    "                         color=\"g\")\n",
    "    axes[0].plot(train_sizes, train_scores_mean, 'o-', color=\"r\",\n",
    "                 label=\"Training score\")\n",
    "    axes[0].plot(train_sizes, test_scores_mean, 'o-', color=\"g\",\n",
    "                 label=\"Cross-validation score\")\n",
    "    axes[0].legend(loc=\"best\")\n",
    "\n",
    "    # Plot n_samples vs fit_times\n",
    "    axes[1].grid()\n",
    "    axes[1].plot(train_sizes, fit_times_mean, 'o-')\n",
    "    axes[1].fill_between(train_sizes, fit_times_mean - fit_times_std,\n",
    "                         fit_times_mean + fit_times_std, alpha=0.1)\n",
    "    axes[1].set_xlabel(\"Training examples\")\n",
    "    axes[1].set_ylabel(\"fit_times\")\n",
    "    axes[1].set_title(\"Scalability of the model\")\n",
    "\n",
    "    # Plot fit_time vs score\n",
    "    axes[2].grid()\n",
    "    axes[2].plot(fit_times_mean, test_scores_mean, 'o-')\n",
    "    axes[2].fill_between(fit_times_mean, test_scores_mean - test_scores_std,\n",
    "                         test_scores_mean + test_scores_std, alpha=0.1)\n",
    "    axes[2].set_xlabel(\"fit_times\")\n",
    "    axes[2].set_ylabel(\"Score\")\n",
    "    axes[2].set_title(\"Performance of the model\")\n",
    "\n",
    "    return plt"
   ]
  },
  {
   "cell_type": "code",
   "execution_count": 196,
   "metadata": {},
   "outputs": [
    {
     "data": {
      "image/png": "[encoded data removed]",
      "text/plain": [
       "<Figure size 504x1080 with 3 Axes>"
      ]
     },
     "metadata": {
      "needs_background": "light"
     },
     "output_type": "display_data"
    },
    {
     "name": "stdout",
     "output_type": "stream",
     "text": [
      "Wall time: 12.7 s\n"
     ]
    }
   ],
   "source": [
    "%%time\n",
    "# Plot the learning curve\n",
    "cv = StratifiedKFold(n_splits=5, random_state=1, shuffle=True)\n",
    "title = \"Gradient Boosting\"\n",
    "fig, axes = plt.subplots(3, 1, figsize=(7, 15))\n",
    "plot_learning_curve(clf, title, X, y, axes=axes, ylim=(0.5, 1.01),\n",
    "                    cv=cv, n_jobs=4, scoring='roc_auc')\n",
    "plt.show()"
   ]
  },
  {
   "cell_type": "markdown",
   "metadata": {},
   "source": [
    "#### 3.3.3. Check the dissimilarity between train, test (covariate shift)\n",
    "\n",
    "<u>Reference:</u>\n",
    "- How (dis)similar are my train and test data? Link: https://towardsdatascience.com/how-dis-similar-are-my-train-and-test-data-56af3923de9b"
   ]
  },
  {
   "cell_type": "code",
   "execution_count": 89,
   "metadata": {},
   "outputs": [
    {
     "name": "stdout",
     "output_type": "stream",
     "text": [
      "Wall time: 1.47 s\n"
     ]
    }
   ],
   "source": [
    "%%time\n",
    "# Combine train, test data and prepare the target is_train = [0, 1]\n",
    "X_all = pd.concat([X, X_test])\n",
    "y_is_train = np.array(X.shape[0] * [1] + X_test.shape[0] * [0])"
   ]
  },
  {
   "cell_type": "code",
   "execution_count": 90,
   "metadata": {},
   "outputs": [
    {
     "name": "stderr",
     "output_type": "stream",
     "text": [
      "[Parallel(n_jobs=-1)]: Using backend LokyBackend with 8 concurrent workers.\n",
      "[Parallel(n_jobs=-1)]: Done   2 out of   5 | elapsed:  2.5min remaining:  3.8min\n",
      "[Parallel(n_jobs=-1)]: Done   3 out of   5 | elapsed:  2.6min remaining:  1.7min\n",
      "[Parallel(n_jobs=-1)]: Done   5 out of   5 | elapsed:  2.7min remaining:    0.0s\n",
      "[Parallel(n_jobs=-1)]: Done   5 out of   5 | elapsed:  2.7min finished\n"
     ]
    },
    {
     "name": "stdout",
     "output_type": "stream",
     "text": [
      "AUC cv: 0.5020610249999999\n",
      "Wall time: 2min 39s\n"
     ]
    }
   ],
   "source": [
    "%%time\n",
    "# k-fold CV of the model to predict train, test data\n",
    "cv = StratifiedKFold(n_splits=5, random_state=1, shuffle=True)\n",
    "clf_is_train = RandomForestClassifier()\n",
    "scores = cross_validate(clf_is_train, X_all, y_is_train, scoring='roc_auc', cv=cv, n_jobs=-1, verbose=10)\n",
    "print('AUC cv:', scores['test_score'].mean())"
   ]
  },
  {
   "cell_type": "markdown",
   "metadata": {},
   "source": [
    "## 4. Make prediction\n",
    "\n",
    "Use the best model to make prediction on test set. Submit the result to Kaggle."
   ]
  },
  {
   "cell_type": "code",
   "execution_count": 124,
   "metadata": {},
   "outputs": [
    {
     "name": "stdout",
     "output_type": "stream",
     "text": [
      "Wall time: 17.5 s\n"
     ]
    },
    {
     "data": {
      "text/html": [
       "<div>\n",
       "<style scoped>\n",
       "    .dataframe tbody tr th:only-of-type {\n",
       "        vertical-align: middle;\n",
       "    }\n",
       "\n",
       "    .dataframe tbody tr th {\n",
       "        vertical-align: top;\n",
       "    }\n",
       "\n",
       "    .dataframe thead th {\n",
       "        text-align: right;\n",
       "    }\n",
       "</style>\n",
       "<table border=\"1\" class=\"dataframe\">\n",
       "  <thead>\n",
       "    <tr style=\"text-align: right;\">\n",
       "      <th></th>\n",
       "      <th>cust_id</th>\n",
       "      <th>churn</th>\n",
       "    </tr>\n",
       "  </thead>\n",
       "  <tbody>\n",
       "    <tr>\n",
       "      <th>0</th>\n",
       "      <td>1</td>\n",
       "      <td>0.624887</td>\n",
       "    </tr>\n",
       "    <tr>\n",
       "      <th>1</th>\n",
       "      <td>2</td>\n",
       "      <td>0.497828</td>\n",
       "    </tr>\n",
       "    <tr>\n",
       "      <th>2</th>\n",
       "      <td>5</td>\n",
       "      <td>0.648022</td>\n",
       "    </tr>\n",
       "    <tr>\n",
       "      <th>3</th>\n",
       "      <td>6</td>\n",
       "      <td>0.641101</td>\n",
       "    </tr>\n",
       "    <tr>\n",
       "      <th>4</th>\n",
       "      <td>10</td>\n",
       "      <td>0.595436</td>\n",
       "    </tr>\n",
       "  </tbody>\n",
       "</table>\n",
       "</div>"
      ],
      "text/plain": [
       "   cust_id     churn\n",
       "0        1  0.624887\n",
       "1        2  0.497828\n",
       "2        5  0.648022\n",
       "3        6  0.641101\n",
       "4       10  0.595436"
      ]
     },
     "execution_count": 124,
     "metadata": {},
     "output_type": "execute_result"
    }
   ],
   "source": [
    "%%time\n",
    "# Make prediction using a model\n",
    "final_model = 'gb'\n",
    "#pred = model_grid[final_model].best_estimator_.predict_proba(X_test)[:, 1]\n",
    "pred = clf.fit(X, y).predict_proba(X_test)[:, 1]\n",
    "submission = pd.DataFrame({'cust_id':test_id.values.squeeze(), 'churn':pred})\n",
    "submission.to_csv('./out/submission_' + final_model + fname + '.csv', index=False)\n",
    "submission.head()"
   ]
  },
  {
   "cell_type": "markdown",
   "metadata": {},
   "source": [
    "## 5. Other useful references\n",
    "\n",
    "1. Dynamic Classifier Selection Ensembles in Python. Link: https://machinelearningmastery.com/dynamic-classifier-selection-in-python/\n",
    "2. How to Develop a Feature Selection Subspace Ensemble in Python. Link: https://machinelearningmastery.com/feature-selection-subspace-ensemble-in-python/\n",
    "3. How to Choose a Feature Selection Method For Machine Learning. Link: https://machinelearningmastery.com/feature-selection-with-real-and-categorical-data/"
   ]
  }
 ],
 "metadata": {
  "kernelspec": {
   "display_name": "Python 3",
   "language": "python",
   "name": "python3"
  },
  "language_info": {
   "codemirror_mode": {
    "name": "ipython",
    "version": 3
   },
   "file_extension": ".py",
   "mimetype": "text/x-python",
   "name": "python",
   "nbconvert_exporter": "python",
   "pygments_lexer": "ipython3",
   "version": "3.8.5"
  }
 },
 "nbformat": 4,
 "nbformat_minor": 4
}
